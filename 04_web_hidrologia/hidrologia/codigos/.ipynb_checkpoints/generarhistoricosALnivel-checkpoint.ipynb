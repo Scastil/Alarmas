{
 "cells": [
  {
   "cell_type": "code",
   "execution_count": 12,
   "metadata": {
    "collapsed": true
   },
   "outputs": [],
   "source": [
    "%matplotlib inline  \n",
    "import numpy as np \n",
    "import pandas as pd \n",
    "import pylab as pl \n",
    "import datetime as dt \n",
    "import os \n",
    "from wmf import wmf \n",
    "from multiprocessing import Pool\n",
    "import matplotlib\n",
    "import MySQLdb\n",
    "import json\n",
    "from cpr import cpr\n",
    "import pickle\n",
    "import alarmas as al\n",
    "import funciones_sora\n",
    "#Ignorar avisos pendejos\n",
    "import warnings\n",
    "warnings.filterwarnings('ignore')"
   ]
  },
  {
   "cell_type": "markdown",
   "metadata": {},
   "source": [
    "#### Pendientes"
   ]
  },
  {
   "cell_type": "markdown",
   "metadata": {},
   "source": [
    "- Actualizar funciones a esquema CPR - especialmente consultas a BD.\n",
    "- Sacar asignaciones de pluvio - nivel automáticamente.\n",
    "- Funciones automáticas para corregir outliers de históricos"
   ]
  },
  {
   "cell_type": "markdown",
   "metadata": {},
   "source": [
    "#### Funciones"
   ]
  },
  {
   "cell_type": "code",
   "execution_count": 13,
   "metadata": {
    "collapsed": true
   },
   "outputs": [],
   "source": [
    "def getInfoestIndatos(est_codes):\n",
    "    codeest=est_codes[0]\n",
    "    # coneccion a bd con usuario operacional\n",
    "    host   = '192.168.1.74'\n",
    "    user   = 'siata_Oper'\n",
    "    passwd = 'si@t@64512_operacional'\n",
    "    bd     = 'siata'\n",
    "    #Consulta a tabla estaciones\n",
    "    Estaciones=\"SELECT codigo,longitude,latitude,nombreestacion,fechainstalacion  FROM estaciones WHERE codigo=(\"+str(codeest)+\")\"\n",
    "    dbconn = MySQLdb.connect(host, user,passwd,bd)\n",
    "    db_cursor = dbconn.cursor()\n",
    "    db_cursor.execute(Estaciones)\n",
    "    result = np.array(db_cursor.fetchall())\n",
    "    estaciones_datos_all=pd.DataFrame(result,columns=['codigo','longitud','latitud','nombreestacion','fechainstalacion'])\n",
    "\n",
    "\n",
    "    for ind,est in enumerate(est_codes[1:]):\n",
    "        try:\n",
    "            # codigo de la estacion.\n",
    "            codeest=est\n",
    "            # coneccion a bd con usuario operacional\n",
    "            host   = '192.168.1.74'\n",
    "            user   = 'siata_Oper'\n",
    "            passwd = 'si@t@64512_operacional'\n",
    "            bd     = 'siata'\n",
    "            #Consulta a tabla estaciones\n",
    "            Estaciones=\"SELECT codigo,longitude,latitude,nombreestacion,fechainstalacion  FROM estaciones WHERE codigo=(\"+str(codeest)+\")\"\n",
    "            dbconn = MySQLdb.connect(host, user,passwd,bd)\n",
    "            db_cursor = dbconn.cursor()\n",
    "            db_cursor.execute(Estaciones)\n",
    "            result = np.array(db_cursor.fetchall())\n",
    "            #holding\n",
    "            estaciones_datos=pd.DataFrame(result,columns=['codigo','longitud','latitud','nombreestacion','fechainstalacion'])\n",
    "            estaciones_datos_all=estaciones_datos_all.append(estaciones_datos)\n",
    "        except:\n",
    "            pass\n",
    "    estaciones_datos_all.index=estaciones_datos_all['codigo']\n",
    "    estaciones_datos_all.index.name=''\n",
    "    estaciones_datos_all=estaciones_datos_all.drop('codigo',axis=1)\n",
    "    return estaciones_datos_all"
   ]
  },
  {
   "cell_type": "markdown",
   "metadata": {},
   "source": [
    "---------"
   ]
  },
  {
   "cell_type": "code",
   "execution_count": 14,
   "metadata": {},
   "outputs": [
    {
     "data": {
      "text/html": [
       "<div>\n",
       "<style>\n",
       "    .dataframe thead tr:only-child th {\n",
       "        text-align: right;\n",
       "    }\n",
       "\n",
       "    .dataframe thead th {\n",
       "        text-align: left;\n",
       "    }\n",
       "\n",
       "    .dataframe tbody tr th {\n",
       "        vertical-align: top;\n",
       "    }\n",
       "</style>\n",
       "<table border=\"1\" class=\"dataframe\">\n",
       "  <thead>\n",
       "    <tr style=\"text-align: right;\">\n",
       "      <th></th>\n",
       "      <th>EstMeteoAdentro</th>\n",
       "      <th>EstMeteoAfuera</th>\n",
       "      <th>EstN30m</th>\n",
       "      <th>EstNivel</th>\n",
       "      <th>EstNivel1</th>\n",
       "      <th>EstPluvioAdentro</th>\n",
       "      <th>EstPluvioAfuera</th>\n",
       "      <th>EstTto</th>\n",
       "      <th>Nombres Alarmas</th>\n",
       "      <th>Nombres Corriente Asociada</th>\n",
       "      <th>URL Cuencas</th>\n",
       "    </tr>\n",
       "  </thead>\n",
       "  <tbody>\n",
       "    <tr>\n",
       "      <th>216</th>\n",
       "      <td>[197]</td>\n",
       "      <td>[249]</td>\n",
       "      <td>[108]</td>\n",
       "      <td>[90, 108]</td>\n",
       "      <td>[108]</td>\n",
       "      <td>[3, 18, 43]</td>\n",
       "      <td></td>\n",
       "      <td></td>\n",
       "      <td>SIRENA SANTA RITA SAN ANTONIO DE PRADO</td>\n",
       "      <td>Q. DONA MARIA</td>\n",
       "      <td>NaN</td>\n",
       "    </tr>\n",
       "    <tr>\n",
       "      <th>219</th>\n",
       "      <td></td>\n",
       "      <td>[249]</td>\n",
       "      <td></td>\n",
       "      <td>[173, 116]</td>\n",
       "      <td>[173]</td>\n",
       "      <td>[29]</td>\n",
       "      <td>[1, 8]</td>\n",
       "      <td></td>\n",
       "      <td>SIRENA BELEN - LAS VIOLETAS</td>\n",
       "      <td>Q. LA PICACHA</td>\n",
       "      <td>NaN</td>\n",
       "    </tr>\n",
       "    <tr>\n",
       "      <th>220</th>\n",
       "      <td></td>\n",
       "      <td>[249]</td>\n",
       "      <td></td>\n",
       "      <td>[173, 116]</td>\n",
       "      <td>[116]</td>\n",
       "      <td>[29]</td>\n",
       "      <td>[1, 8, 9]</td>\n",
       "      <td></td>\n",
       "      <td>SIRENA AGUAS FRIAS</td>\n",
       "      <td>Q. PICACHA</td>\n",
       "      <td>NaN</td>\n",
       "    </tr>\n",
       "    <tr>\n",
       "      <th>221</th>\n",
       "      <td></td>\n",
       "      <td>[105]</td>\n",
       "      <td></td>\n",
       "      <td>[259]</td>\n",
       "      <td>[259]</td>\n",
       "      <td></td>\n",
       "      <td>[33, 253]</td>\n",
       "      <td></td>\n",
       "      <td>SIRENA ANDALUCIA CALDAS</td>\n",
       "      <td>Q. LA CORRALA</td>\n",
       "      <td>NaN</td>\n",
       "    </tr>\n",
       "    <tr>\n",
       "      <th>222</th>\n",
       "      <td></td>\n",
       "      <td>[82]</td>\n",
       "      <td></td>\n",
       "      <td>[251, 186]</td>\n",
       "      <td>[186]</td>\n",
       "      <td></td>\n",
       "      <td>[234, 30]</td>\n",
       "      <td></td>\n",
       "      <td>SIRENA BARBOSA</td>\n",
       "      <td>Q. LA GALLINAZA</td>\n",
       "      <td>NaN</td>\n",
       "    </tr>\n",
       "    <tr>\n",
       "      <th>223</th>\n",
       "      <td></td>\n",
       "      <td></td>\n",
       "      <td></td>\n",
       "      <td>[265, 135]</td>\n",
       "      <td>[135]</td>\n",
       "      <td></td>\n",
       "      <td>[12, 14, 48, 89]</td>\n",
       "      <td></td>\n",
       "      <td>SIRENA BELLO CAFETAL</td>\n",
       "      <td>Q. LA LOCA</td>\n",
       "      <td>NaN</td>\n",
       "    </tr>\n",
       "    <tr>\n",
       "      <th>224</th>\n",
       "      <td>[105]</td>\n",
       "      <td></td>\n",
       "      <td>[179, 106]</td>\n",
       "      <td>[179, 106, 124]</td>\n",
       "      <td>[106]</td>\n",
       "      <td>[267, 61, 261, 33, 253]</td>\n",
       "      <td></td>\n",
       "      <td>[179]</td>\n",
       "      <td>SIRENA LA ESTRELLA</td>\n",
       "      <td>RIO MEDELLIN - LA INMACULADA</td>\n",
       "      <td>NaN</td>\n",
       "    </tr>\n",
       "    <tr>\n",
       "      <th>226</th>\n",
       "      <td></td>\n",
       "      <td>[105]</td>\n",
       "      <td></td>\n",
       "      <td>[246]</td>\n",
       "      <td>[246]</td>\n",
       "      <td>[261]</td>\n",
       "      <td>[61]</td>\n",
       "      <td></td>\n",
       "      <td>SIRENA LA RAYA</td>\n",
       "      <td>Q. LA RAYA</td>\n",
       "      <td>NaN</td>\n",
       "    </tr>\n",
       "    <tr>\n",
       "      <th>279</th>\n",
       "      <td></td>\n",
       "      <td>[70]</td>\n",
       "      <td></td>\n",
       "      <td>[239]</td>\n",
       "      <td>[239]</td>\n",
       "      <td>[248]</td>\n",
       "      <td>[70]</td>\n",
       "      <td></td>\n",
       "      <td>SIRENA PIEDRAS BLANCAS</td>\n",
       "      <td>PIEDRAS BLANCAS</td>\n",
       "      <td>NaN</td>\n",
       "    </tr>\n",
       "    <tr>\n",
       "      <th>280</th>\n",
       "      <td></td>\n",
       "      <td></td>\n",
       "      <td></td>\n",
       "      <td>[283, 134]</td>\n",
       "      <td>[134]</td>\n",
       "      <td>[281, 121]</td>\n",
       "      <td>[89, 14, 48]</td>\n",
       "      <td></td>\n",
       "      <td>SIRENA LA ISLA</td>\n",
       "      <td>LA MADERA Y MONTANITA</td>\n",
       "      <td>NaN</td>\n",
       "    </tr>\n",
       "    <tr>\n",
       "      <th>285</th>\n",
       "      <td></td>\n",
       "      <td></td>\n",
       "      <td></td>\n",
       "      <td>[272]</td>\n",
       "      <td>[272]</td>\n",
       "      <td></td>\n",
       "      <td>[88, 31]</td>\n",
       "      <td></td>\n",
       "      <td>SIRENA EL SALADO - JAMUNDI</td>\n",
       "      <td>EL SALADO</td>\n",
       "      <td>NaN</td>\n",
       "    </tr>\n",
       "    <tr>\n",
       "      <th>300</th>\n",
       "      <td></td>\n",
       "      <td></td>\n",
       "      <td></td>\n",
       "      <td></td>\n",
       "      <td></td>\n",
       "      <td></td>\n",
       "      <td>[37, 74]</td>\n",
       "      <td></td>\n",
       "      <td>SIRENA LA AVELINA</td>\n",
       "      <td>LA GARCIA</td>\n",
       "      <td>NaN</td>\n",
       "    </tr>\n",
       "    <tr>\n",
       "      <th>301</th>\n",
       "      <td></td>\n",
       "      <td></td>\n",
       "      <td></td>\n",
       "      <td>[155]</td>\n",
       "      <td>[155]</td>\n",
       "      <td></td>\n",
       "      <td>[37, 74]</td>\n",
       "      <td></td>\n",
       "      <td>EL HATO</td>\n",
       "      <td>EL HATO</td>\n",
       "      <td>NaN</td>\n",
       "    </tr>\n",
       "  </tbody>\n",
       "</table>\n",
       "</div>"
      ],
      "text/plain": [
       "    EstMeteoAdentro EstMeteoAfuera     EstN30m         EstNivel EstNivel1  \\\n",
       "216           [197]          [249]       [108]        [90, 108]     [108]   \n",
       "219                          [249]                   [173, 116]     [173]   \n",
       "220                          [249]                   [173, 116]     [116]   \n",
       "221                          [105]                        [259]     [259]   \n",
       "222                           [82]                   [251, 186]     [186]   \n",
       "223                                                  [265, 135]     [135]   \n",
       "224           [105]                 [179, 106]  [179, 106, 124]     [106]   \n",
       "226                          [105]                        [246]     [246]   \n",
       "279                           [70]                        [239]     [239]   \n",
       "280                                                  [283, 134]     [134]   \n",
       "285                                                       [272]     [272]   \n",
       "300                                                                         \n",
       "301                                                       [155]     [155]   \n",
       "\n",
       "            EstPluvioAdentro   EstPluvioAfuera EstTto  \\\n",
       "216              [3, 18, 43]                            \n",
       "219                     [29]            [1, 8]          \n",
       "220                     [29]         [1, 8, 9]          \n",
       "221                                  [33, 253]          \n",
       "222                                  [234, 30]          \n",
       "223                           [12, 14, 48, 89]          \n",
       "224  [267, 61, 261, 33, 253]                    [179]   \n",
       "226                    [261]              [61]          \n",
       "279                    [248]              [70]          \n",
       "280               [281, 121]      [89, 14, 48]          \n",
       "285                                   [88, 31]          \n",
       "300                                   [37, 74]          \n",
       "301                                   [37, 74]          \n",
       "\n",
       "                            Nombres Alarmas    Nombres Corriente Asociada  \\\n",
       "216  SIRENA SANTA RITA SAN ANTONIO DE PRADO                 Q. DONA MARIA   \n",
       "219             SIRENA BELEN - LAS VIOLETAS                 Q. LA PICACHA   \n",
       "220                      SIRENA AGUAS FRIAS                    Q. PICACHA   \n",
       "221                 SIRENA ANDALUCIA CALDAS                 Q. LA CORRALA   \n",
       "222                          SIRENA BARBOSA               Q. LA GALLINAZA   \n",
       "223                    SIRENA BELLO CAFETAL                    Q. LA LOCA   \n",
       "224                      SIRENA LA ESTRELLA  RIO MEDELLIN - LA INMACULADA   \n",
       "226                          SIRENA LA RAYA                    Q. LA RAYA   \n",
       "279                  SIRENA PIEDRAS BLANCAS               PIEDRAS BLANCAS   \n",
       "280                          SIRENA LA ISLA         LA MADERA Y MONTANITA   \n",
       "285              SIRENA EL SALADO - JAMUNDI                     EL SALADO   \n",
       "300                       SIRENA LA AVELINA                     LA GARCIA   \n",
       "301                                EL HATO                        EL HATO   \n",
       "\n",
       "     URL Cuencas  \n",
       "216          NaN  \n",
       "219          NaN  \n",
       "220          NaN  \n",
       "221          NaN  \n",
       "222          NaN  \n",
       "223          NaN  \n",
       "224          NaN  \n",
       "226          NaN  \n",
       "279          NaN  \n",
       "280          NaN  \n",
       "285          NaN  \n",
       "300          NaN  \n",
       "301          NaN  "
      ]
     },
     "execution_count": 14,
     "metadata": {},
     "output_type": "execute_result"
    }
   ],
   "source": [
    "rutaconfig='/media/nicolas/Home/Jupyter/Soraya/git/Alarmas/04_web_hidrologia/hidrologia/configfile_web.md'\n",
    "listconfig=al.get_rutesList(rutaconfig)\n",
    "\n",
    "dfconfig=pd.read_json(al.get_ruta(listconfig,'ruta_JSONinfosirenas'))\n",
    "dfconfig"
   ]
  },
  {
   "cell_type": "markdown",
   "metadata": {},
   "source": [
    "Estaciones"
   ]
  },
  {
   "cell_type": "code",
   "execution_count": 15,
   "metadata": {
    "collapsed": true
   },
   "outputs": [],
   "source": [
    "#nivel\n",
    "n_alarmas=np.unique(np.sort(np.hstack(dfconfig['EstNivel'])))"
   ]
  },
  {
   "cell_type": "code",
   "execution_count": 16,
   "metadata": {
    "collapsed": true
   },
   "outputs": [],
   "source": [
    "#pluvio\n",
    "est_p2=np.sort(np.hstack(dfconfig['EstPluvioAdentro']))\n",
    "est_p2=(map(int,est_p2[np.where(est_p2)[0]]))\n",
    "est_p3=np.sort(np.hstack(dfconfig['EstPluvioAfuera']))\n",
    "est_p2.append(map(int,est_p3[np.where(est_p3)[0]]))\n",
    "#EST\n",
    "p_alarmas=np.unique(np.hstack(est_p2))"
   ]
  },
  {
   "cell_type": "markdown",
   "metadata": {},
   "source": [
    "Consulta fechas de instalación"
   ]
  },
  {
   "cell_type": "code",
   "execution_count": 7,
   "metadata": {
    "collapsed": true
   },
   "outputs": [],
   "source": [
    "EST=np.append(n_alarmas,p_alarmas)\n",
    "EST.size\n",
    "EST=EST[np.where(EST)]"
   ]
  },
  {
   "cell_type": "markdown",
   "metadata": {},
   "source": [
    "------------"
   ]
  },
  {
   "cell_type": "code",
   "execution_count": 104,
   "metadata": {
    "collapsed": true
   },
   "outputs": [],
   "source": [
    "#Puente 33 y Aguacatala\n",
    "EST=['101']"
   ]
  },
  {
   "cell_type": "code",
   "execution_count": 107,
   "metadata": {},
   "outputs": [
    {
     "data": {
      "text/plain": [
       "\n",
       "101    2013-12-19\n",
       "Name: fechainstalacion, dtype: object"
      ]
     },
     "execution_count": 107,
     "metadata": {},
     "output_type": "execute_result"
    }
   ],
   "source": [
    "infoest['fechainstalacion']"
   ]
  },
  {
   "cell_type": "markdown",
   "metadata": {},
   "source": [
    "------------"
   ]
  },
  {
   "cell_type": "code",
   "execution_count": 105,
   "metadata": {
    "collapsed": true
   },
   "outputs": [],
   "source": [
    "infoest=getInfoestIndatos(EST)"
   ]
  },
  {
   "cell_type": "code",
   "execution_count": 106,
   "metadata": {
    "scrolled": true
   },
   "outputs": [
    {
     "data": {
      "text/html": [
       "<div>\n",
       "<style>\n",
       "    .dataframe thead tr:only-child th {\n",
       "        text-align: right;\n",
       "    }\n",
       "\n",
       "    .dataframe thead th {\n",
       "        text-align: left;\n",
       "    }\n",
       "\n",
       "    .dataframe tbody tr th {\n",
       "        vertical-align: top;\n",
       "    }\n",
       "</style>\n",
       "<table border=\"1\" class=\"dataframe\">\n",
       "  <thead>\n",
       "    <tr style=\"text-align: right;\">\n",
       "      <th></th>\n",
       "      <th>longitud</th>\n",
       "      <th>latitud</th>\n",
       "      <th>nombreestacion</th>\n",
       "      <th>fechainstalacion</th>\n",
       "    </tr>\n",
       "    <tr>\n",
       "      <th></th>\n",
       "      <th></th>\n",
       "      <th></th>\n",
       "      <th></th>\n",
       "      <th></th>\n",
       "    </tr>\n",
       "  </thead>\n",
       "  <tbody>\n",
       "    <tr>\n",
       "      <th>101</th>\n",
       "      <td>-75.56911</td>\n",
       "      <td>6.20772</td>\n",
       "      <td>Parque lineal de la presidenta</td>\n",
       "      <td>2013-12-19</td>\n",
       "    </tr>\n",
       "  </tbody>\n",
       "</table>\n",
       "</div>"
      ],
      "text/plain": [
       "      longitud  latitud                  nombreestacion fechainstalacion\n",
       "                                                                        \n",
       "101  -75.56911  6.20772  Parque lineal de la presidenta       2013-12-19"
      ]
     },
     "execution_count": 106,
     "metadata": {},
     "output_type": "execute_result"
    }
   ],
   "source": [
    "infoest[infoest.index==str(EST[0])]"
   ]
  },
  {
   "cell_type": "markdown",
   "metadata": {},
   "source": [
    "Consulta histórica- NIVEL"
   ]
  },
  {
   "cell_type": "code",
   "execution_count": 111,
   "metadata": {},
   "outputs": [
    {
     "name": "stdout",
     "output_type": "stream",
     "text": [
      "2018-06-28 11:35:07.499883\n",
      "2018-06-28 11:47:00.827691\n"
     ]
    }
   ],
   "source": [
    "print dt.datetime.now()\n",
    "for est in EST[0:1]:\n",
    "    self= cpr.Nivel(est)\n",
    "    self.host='192.168.1.100'\n",
    "    start=str(infoest['fechainstalacion'][str(est)])#(dt.datetime.now()-pd.Timedelta('5m')).strftime('%Y-%m-%d-%H:%M')\n",
    "    end=(dt.datetime.now() - pd.Timedelta('15 days')).strftime('%Y-%m-%d-%H:%M')\n",
    "    level=self.get_level(start,end)\n",
    "    level['nivel'].to_csv('../historicos/nivel/'+str(est)+'_H.csv')\n",
    "print dt.datetime.now()"
   ]
  },
  {
   "cell_type": "markdown",
   "metadata": {
    "collapsed": true
   },
   "source": [
    "Se leen los resultados."
   ]
  },
  {
   "cell_type": "code",
   "execution_count": 113,
   "metadata": {
    "collapsed": true
   },
   "outputs": [],
   "source": [
    "nivel=pd.read_csv('../historicos/nivel/'+str(est)+'_H.csv')"
   ]
  },
  {
   "cell_type": "markdown",
   "metadata": {},
   "source": [
    "Consulta histórica - PLUVIO"
   ]
  },
  {
   "cell_type": "code",
   "execution_count": 11,
   "metadata": {},
   "outputs": [
    {
     "data": {
      "text/plain": [
       "array([  1,   3,   8,   9,  12,  14,  18,  29,  30,  31,  33,  37,  43,\n",
       "        48,  61,  70,  74,  88,  89, 121, 234, 248, 253, 261, 267, 281])"
      ]
     },
     "execution_count": 11,
     "metadata": {},
     "output_type": "execute_result"
    }
   ],
   "source": [
    "p_alarmas"
   ]
  },
  {
   "cell_type": "code",
   "execution_count": 12,
   "metadata": {
    "collapsed": true
   },
   "outputs": [],
   "source": [
    "est=p_alarmas[4]"
   ]
  },
  {
   "cell_type": "code",
   "execution_count": 22,
   "metadata": {},
   "outputs": [
    {
     "name": "stdout",
     "output_type": "stream",
     "text": [
      "Warning: No data found for station << I.E Concejo de Medellin - 12 >>, output will be a DataFrame filled with NaN\n"
     ]
    }
   ],
   "source": [
    "end = dt.datetime.now()\n",
    "start = end - dt.timedelta(hours=5)\n",
    "self = cpr.Pluvio(est)\n",
    "self.host='192.168.1.100'\n",
    "seriep = self.read_pluvio('2018-03-16-23:30','2018-03-17-05:00') "
   ]
  },
  {
   "cell_type": "code",
   "execution_count": 21,
   "metadata": {},
   "outputs": [
    {
     "data": {
      "text/plain": [
       "array([  9,  12,  14,  18,  29,  30,  31,  33,  37,  43,  48,  61,  70,\n",
       "        74,  88,  89, 121, 234, 248, 253, 261, 267, 281])"
      ]
     },
     "execution_count": 21,
     "metadata": {},
     "output_type": "execute_result"
    }
   ],
   "source": [
    "p_alarmas[3:]\n"
   ]
  },
  {
   "cell_type": "code",
   "execution_count": 24,
   "metadata": {
    "scrolled": true
   },
   "outputs": [
    {
     "name": "stdout",
     "output_type": "stream",
     "text": [
      "2018-03-29 10:15:43.165920\n",
      "2018-03-29 12:40:48.186717\n"
     ]
    }
   ],
   "source": [
    "#contador de tiempo\n",
    "print dt.datetime.now()\n",
    "\n",
    "for est in p_alarmas[4:]:\n",
    "    try:\n",
    "        start=str(infoest['fechainstalacion'][str(est)])\n",
    "        end=dt.datetime.now().strftime('%Y-%m-%d-%H:%M')\n",
    "        self.host='192.168.1.100'\n",
    "        self = cpr.Pluvio(est)\n",
    "        seriep = self.read_pluvio(start,end)\n",
    "        seriep.to_csv('historicos/pluvio/'+str(est)+'_H.csv')\n",
    "#     listpluvio2.append(seriep) \n",
    "    except:\n",
    "        pass\n",
    "# listpluvio2.append(seriep.index)\n",
    "\n",
    "#contador de tiempo\n",
    "print dt.datetime.now()"
   ]
  },
  {
   "cell_type": "code",
   "execution_count": null,
   "metadata": {
    "collapsed": true
   },
   "outputs": [],
   "source": []
  },
  {
   "cell_type": "code",
   "execution_count": null,
   "metadata": {
    "collapsed": true
   },
   "outputs": [],
   "source": []
  },
  {
   "cell_type": "code",
   "execution_count": null,
   "metadata": {
    "collapsed": true
   },
   "outputs": [],
   "source": []
  },
  {
   "cell_type": "code",
   "execution_count": 38,
   "metadata": {
    "collapsed": true
   },
   "outputs": [],
   "source": [
    "p_left=[33,  37,  43,  48,  61,  70, 74,  88,  89, 121, 234, 248, 253, 261, 267, 281]"
   ]
  },
  {
   "cell_type": "code",
   "execution_count": 28,
   "metadata": {
    "collapsed": true
   },
   "outputs": [],
   "source": [
    "est=9"
   ]
  },
  {
   "cell_type": "code",
   "execution_count": 39,
   "metadata": {},
   "outputs": [
    {
     "name": "stdout",
     "output_type": "stream",
     "text": [
      "2018-03-29 14:36:24.945308\n",
      "2018-03-29 17:50:18.356946\n"
     ]
    }
   ],
   "source": [
    "print dt.datetime.now()\n",
    "for est in p_left:\n",
    "    start=str(infoest['fechainstalacion'][str(est)])\n",
    "    end=dt.datetime.now().strftime('%Y-%m-%d-%H:%M')\n",
    "    self.host='192.168.1.100'\n",
    "    self = cpr.Pluvio(est)\n",
    "    seriep = self.read_pluvio(start,end)\n",
    "    seriep.to_csv('historicos/pluvio/'+str(est)+'_H.csv')\n",
    "print dt.datetime.now()"
   ]
  }
 ],
 "metadata": {
  "kernelspec": {
   "display_name": "Python 2",
   "language": "python",
   "name": "python2"
  },
  "language_info": {
   "codemirror_mode": {
    "name": "ipython",
    "version": 2
   },
   "file_extension": ".py",
   "mimetype": "text/x-python",
   "name": "python",
   "nbconvert_exporter": "python",
   "pygments_lexer": "ipython2",
   "version": "2.7.6"
  }
 },
 "nbformat": 4,
 "nbformat_minor": 2
}
