{
 "cells": [
  {
   "cell_type": "markdown",
   "metadata": {},
   "source": [
    "#### Inputs de Cron Ejecucion"
   ]
  },
  {
   "cell_type": "code",
   "execution_count": 11,
   "metadata": {
    "collapsed": true
   },
   "outputs": [],
   "source": [
    "import pandas as pd \n",
    "import datetime as dt \n",
    "import os \n",
    "from wmf import wmf\n",
    "from multiprocessing import Pool\n",
    "import numpy as np\n",
    "import pickle \n",
    "import alarmas as al\n",
    "import glob \n",
    "import time\n",
    "import pylab as pl"
   ]
  },
  {
   "cell_type": "markdown",
   "metadata": {},
   "source": [
    "Bits of Cron Ejecucion"
   ]
  },
  {
   "cell_type": "code",
   "execution_count": 12,
   "metadata": {
    "collapsed": true
   },
   "outputs": [],
   "source": [
    "# Texto Fecha: el texto de fecha que se usa para guardar algunos archivos de figuras.\n",
    "daten = dt.datetime.now()\n",
    "dateText = dt.datetime.now().strftime('%Y-%m-%d-%H:%M')\n",
    "\n",
    "# print '\\n'\n",
    "# print '###################################### Fecha de Ejecucion: '+dateText+' #############################\\n'\n",
    "\n",
    "#Obtiene las rutas necesarias \n",
    "ruta_de_rutas = '/media/nicolas/Home/Jupyter/Soraya/Op_Alarmas/Op_AMVA60m/Rutas.md'\n",
    "RutasList = al.get_rutesList(ruta_de_rutas)\n",
    "\n",
    "# rutas de objetos de entrada\n",
    "ruta_cuenca = al.get_ruta(RutasList, 'ruta_cuenca')\n",
    "ruta_campos = al.get_ruta(RutasList, 'ruta_campos')\n",
    "ruta_codigos = al.get_ruta(RutasList, 'ruta_codigos')\n",
    "ruta_configuracion_1 = al.get_ruta(RutasList, 'ruta_configuracion_1')\n",
    "ruta_almacenamiento = al.get_ruta(RutasList, 'ruta_almacenamiento')\n",
    "# Rutas de objetos de salida\n",
    "ruta_out_rain = al.get_ruta(RutasList, 'ruta_rain')\n",
    "ruta_out_rain_png = al.get_ruta(RutasList, 'ruta_rain_png')"
   ]
  },
  {
   "cell_type": "markdown",
   "metadata": {},
   "source": [
    "Rain_Rain2Basin"
   ]
  },
  {
   "cell_type": "code",
   "execution_count": 13,
   "metadata": {
    "collapsed": true
   },
   "outputs": [],
   "source": [
    "#!/usr/bin/env python\n",
    "from wmf import wmf \n",
    "#import func_SIATA as fs\n",
    "import netCDF4\n",
    "import pylab as pl\n",
    "import numpy as np\n",
    "import datetime as dt\n",
    "import argparse\n",
    "import textwrap\n",
    "import os \n",
    "import pandas as pd\n",
    "import glob"
   ]
  },
  {
   "cell_type": "markdown",
   "metadata": {},
   "source": [
    "#Parametros de entrada del trazador\n",
    "parser=argparse.ArgumentParser(\n",
    "\tprog='RadarStraConv2Basin',\n",
    "\tformatter_class=argparse.RawDescriptionHelpFormatter,\n",
    "\tdescription=textwrap.dedent('''\\\n",
    "\tToma los campos de precip, conv y stratiformes tipo nc y los \n",
    "        convierte al formato de la cuenca, esta segunda version\n",
    "\t\tobtiene tambien los campos con intervalos maximos y minimos\n",
    "\t\tde precipitacion. Modificado para incluir extrapolacion\n",
    "        '''))\n",
    "#Parametros obligatorios\n",
    "parser.add_argument(\"fechaI\",help=\"(YYYY-MM-DD) Fecha de inicio de imagenes\")\n",
    "parser.add_argument(\"fechaF\",help=\"(YYYY-MM-DD) Fecha de fin de imagenes\")\n",
    "parser.add_argument(\"cuenca\",help=\"(Obligatorio) Ruta de la cuenca en formato .nc\")\n",
    "parser.add_argument(\"rutaNC\",help=\"(Obligatorio) Ruta donde estan los nc\")\n",
    "parser.add_argument(\"rutaRes\", help = \"Ruta donde se guardan las imagenes procesadas\")\n",
    "parser.add_argument(\"-t\",\"--dt\",help=\"(Opcional) Delta de t en segundos\",default = 300,type=float)\n",
    "parser.add_argument(\"-u\",\"--umbral\",help=\"(Opcional) Umbral de lluvia minima\",default = 0.005,type=float)\n",
    "parser.add_argument(\"-v\",\"--verbose\",help=\"Informa sobre la fecha que esta agregando\", \n",
    "\taction = 'store_true')\n",
    "parser.add_argument(\"-n\",\"--noextrapol\",help=\"no incluir archivos de extrapolacion\", \n",
    "\taction = 'store_true')\n",
    "parser.add_argument(\"-s\",\"--super_verbose\",help=\"Imprime para cada posicion las imagenes que encontro\",\n",
    "\taction = 'store_true')\n",
    "parser.add_argument(\"-o\",\"--old\",help=\"Si el archivo a generar es viejo, y se busca es actualizarlo y no borrarlo\",\n",
    "\tdefault = False)\n",
    "parser.add_argument(\"-1\",\"--hora_1\",help=\"Hora inicial de lectura de los archivos\",default= None )\n",
    "parser.add_argument(\"-2\",\"--hora_2\",help=\"Hora final de lectura de los archivos\",default= None )\n",
    "parser.add_argument(\"-c\",\"--save_class\",help=\"Guarda los binarios del clasificado de lluvia\",\n",
    "\taction = 'store_true')\n",
    "parser.add_argument(\"-j\",\"--save_escenarios\",help=\"Guarda los binarios con los umbrales alto y bajo de la lluvia\",\n",
    "\taction = 'store_true')"
   ]
  },
  {
   "cell_type": "code",
   "execution_count": 14,
   "metadata": {
    "collapsed": true
   },
   "outputs": [],
   "source": [
    "lluvia_actual = ruta_out_rain + 'Lluvia_actual'"
   ]
  },
  {
   "cell_type": "code",
   "execution_count": 27,
   "metadata": {
    "collapsed": true
   },
   "outputs": [],
   "source": [
    "fechaI='2017-11-09'\n",
    "fechaF='2017-11-10'\n",
    "cuenca=ruta_cuenca\n",
    "rutaNC=ruta_campos\n",
    "rutaRes=lluvia_actual\n",
    "dt=300\n",
    "umbral=0\n",
    "verbose=True\n",
    "noextrapol=False\n",
    "super_verbose=False\n",
    "old=False\n",
    "hora_1='11:10:00'\n",
    "hora_2='11:10:00'\n",
    "save_class=False\n",
    "save_escenarios=False"
   ]
  },
  {
   "cell_type": "code",
   "execution_count": null,
   "metadata": {
    "collapsed": true
   },
   "outputs": [],
   "source": [
    "#lee todos los argumentos\n",
    "# args=parser.parse_args()\n",
    "#-------------------------------------------------------------------------------------------------------------------------------------\n",
    "#OBTIENE FECHAS Y DEJA ESE TEMA LISTO \n",
    "#-------------------------------------------------------------------------------------------------------------------------------------\n",
    "#Obtiene las fechas por dias\n",
    "datesDias = pd.date_range(fechaI, fechaF,freq='D')#args.\n",
    "a = pd.Series(np.zeros(len(datesDias)),index=datesDias)\n",
    "a = a.resample('A').sum()\n",
    "Anos = [i.strftime('%Y') for i in a.index.to_pydatetime()]\n",
    "\n",
    "datesDias = [d.strftime('%Y%m%d') for d in datesDias.to_pydatetime()]"
   ]
  },
  {
   "cell_type": "code",
   "execution_count": 42,
   "metadata": {
    "collapsed": true
   },
   "outputs": [],
   "source": [
    "ListDays = []\n",
    "ListRutas = []\n",
    "for d in datesDias:\n",
    "    try:\n",
    "        if noextrapol:#args.\n",
    "            L = glob.glob(rutaNC + d + '*120.nc')#args.\n",
    "        else:\n",
    "            L = glob.glob(rutaNC + d + '*.nc')#args.\n",
    "        ListRutas.extend(L)\n",
    "        for i in L:\n",
    "            if i[-11:].endswith('extrapol.nc'):\n",
    "                ListDays.append(i[-32:-20])\n",
    "            else:\n",
    "                ListDays.append(i[-23:-11])\n",
    "    except:\n",
    "        print 'mierda'"
   ]
  },
  {
   "cell_type": "code",
   "execution_count": 50,
   "metadata": {},
   "outputs": [
    {
     "data": {
      "text/plain": [
       "[]"
      ]
     },
     "execution_count": 50,
     "metadata": {},
     "output_type": "execute_result"
    }
   ],
   "source": [
    "glob.glob(rutaNC+d+'*120.nc')"
   ]
  },
  {
   "cell_type": "code",
   "execution_count": 51,
   "metadata": {},
   "outputs": [
    {
     "data": {
      "text/plain": [
       "'/media/nicolas/Home/nicolas/101_RadarClass/'"
      ]
     },
     "execution_count": 51,
     "metadata": {},
     "output_type": "execute_result"
    }
   ],
   "source": [
    "rutaNC"
   ]
  },
  {
   "cell_type": "code",
   "execution_count": 38,
   "metadata": {
    "collapsed": true
   },
   "outputs": [],
   "source": [
    "#Organiza las listas de dias y de rutas\n",
    "ListDays.sort()\n",
    "ListRutas.sort()\n",
    "datesDias = [dt.datetime.strptime(d[:12],'%Y%m%d%H%M') for d in ListDays]\n",
    "datesDias = pd.to_datetime(datesDias)\n",
    "#Obtiene las fechas por Dt\n",
    "textdt = '%d' % dt#args.\n",
    "#Agrega hora a la fecha inicial\n",
    "if hora_1 <> None:#args.\n",
    "        inicio = fechaI+' '+hora_1#args.\n",
    "else:\n",
    "        inicio = fechaI#args.\n",
    "#agrega hora a la fecha final\n",
    "if hora_2 <> None:#args.\n",
    "        final = fechaF+' '+hora_2#args.\n",
    "else:\n",
    "        final = fechaF#args.\n",
    "datesDt = pd.date_range(inicio,final,freq = textdt+'s')\n",
    "#Obtiene las posiciones de acuerdo al dt para cada fecha\n",
    "PosDates = []\n",
    "pos1 = [0]\n",
    "for d1,d2 in zip(datesDt[:-1],datesDt[1:]):\n",
    "        pos2 = np.where((datesDias<d2) & (datesDias>=d1))[0].tolist()\n",
    "        if len(pos2) == 0:\n",
    "                pos2 = pos1\n",
    "        else:\n",
    "                pos1 = pos2\n",
    "        PosDates.append(pos2)\n",
    "\n",
    "\n",
    "#-------------------------------------------------------------------------------------------------------------------------------------\n",
    "#CARGADO DE LA CUENCA SOBRE LA CUAL SE REALIZA EL TRABAJO DE OBTENER CAMPOS\n",
    "#-------------------------------------------------------------------------------------------------------------------------------------\n",
    "#Carga la cuenca del AMVA\n",
    "cuAMVA = wmf.SimuBasin(rute = cuenca)#args.\n",
    "cuConv = wmf.SimuBasin(rute = cuenca)#args.\n",
    "cuStra = wmf.SimuBasin(rute = cuenca)#args.\n",
    "cuHigh = wmf.SimuBasin(rute = cuenca)#args.\n",
    "cuLow = wmf.SimuBasin(rute = cuenca)#args.\n",
    "\n",
    "#si el binario el viejo, establece las variables para actualizar\n",
    "if old:#args.\n",
    "    cuAMVA.rain_radar2basin_from_array(status='old',ruta_out= rutaRes)#args.\n",
    "    if save_class:#args.\n",
    "\t\tcuAMVA.rain_radar2basin_from_array(status='old',ruta_out= rutaRes + '_conv')#args.\n",
    "\t\tcuAMVA.rain_radar2basin_from_array(status='old',ruta_out= rutaRes + '_stra')#args.\n",
    "    if save_escenarios:#args.\n",
    "\t\tcuHigh.rain_radar2basin_from_array(status='old',ruta_out= rutaRes + '_high')#args.\n",
    "\t\tcuLow.rain_radar2basin_from_array(status='old',ruta_out= rutaRes + '_low')#args.\n",
    "#Itera sobre las fechas para actualizar el binario de campos\n",
    "datesDt = datesDt.to_pydatetime()\n",
    "print ListRutas[PosDates[0][0]]\n",
    "for dates,pos in zip(datesDt[1:],PosDates):\n",
    "\trvec = np.zeros(cuAMVA.ncells)\n",
    "\tif save_escenarios:#args.\n",
    "\t\trhigh = np.zeros(cuAMVA.ncells)\n",
    "\t\trlow = np.zeros(cuAMVA.ncells)\n",
    "\tConv = np.zeros(cuAMVA.ncells, dtype = int)\n",
    "\tStra = np.zeros(cuAMVA.ncells, dtype = int)\n",
    "\ttry:\n",
    "\t\tfor c,p in enumerate(pos):\n",
    "\t\t\t#Lee la imagen de radar para esa fecha\n",
    "\t\t\tg = netCDF4.Dataset(ListRutas[p])\n",
    "\t\t\tRadProp = [g.ncols, g.nrows, g.xll, g.yll, g.dx, g.dx]                        \n",
    "\t\t\t#Agrega la lluvia en el intervalo \n",
    "\t\t\trvec += cuAMVA.Transform_Map2Basin(g.variables['Rain'][:].T/ (12*1000.0), RadProp) \n",
    "\t\t\tif save_escenarios:#args.\n",
    "\t\t\t\trhigh += cuAMVA.Transform_Map2Basin(g.variables['Rhigh'][:].T / (12*1000.0), RadProp) \n",
    "\t\t\t\trlow += cuAMVA.Transform_Map2Basin(g.variables['Rlow'][:].T / (12*1000.0), RadProp) \n",
    "\t\t\t#Agrega la clasificacion para la ultima imagen del intervalo\n",
    "\t\t\tConvStra = cuAMVA.Transform_Map2Basin(g.variables['Conv_Strat'][:].T, RadProp)\n",
    "\t\t\tConv = np.copy(ConvStra)\n",
    "\t\t\tConv[Conv == 1] = 0; Conv[Conv == 2] = 1\n",
    "\t\t\tStra = np.copy(ConvStra)\n",
    "\t\t\tStra[Stra == 2] = 0 \n",
    "\t\t\trvec[(Conv == 0) & (Stra == 0)] = 0\n",
    "\t\t\tif save_escenarios:#args.\n",
    "\t\t\t\trhigh[(Conv == 0) & (Stra == 0)] = 0\n",
    "\t\t\t\trlow[(Conv == 0) & (Stra == 0)] = 0\n",
    "\t\t\tConv[rvec == 0] = 0\n",
    "\t\t\tStra[rvec == 0] = 0\n",
    "\t\t\t#Cierra el netCDF\n",
    "\t\t\tg.close()\n",
    "\texcept Exception, e:\n",
    "\t\trvec = np.zeros(cuAMVA.ncells)\n",
    "\t\tif save_escenarios:#args.\n",
    "\t\t\trhigh = np.zeros(cuAMVA.ncells)\n",
    "\t\t\trlow = np.zeros(cuAMVA.ncells)\n",
    "\t\tConv = np.zeros(cuAMVA.ncells)\n",
    "\t\tStra = np.zeros(cuAMVA.ncells)\n",
    "\t#rvec[ConvStra==0] = 0\n",
    "\t#rhigh[ConvStra==0] = 0\n",
    "\t#rlow[ConvStra==0] = 0\n",
    "    #Escribe el binario de lluvia\n",
    "\tdentro = cuAMVA.rain_radar2basin_from_array(vec = rvec,\n",
    "\t\truta_out =rutaRes,#args.\n",
    "\t\tfecha = dates-dt.timedelta(hours = 5),\n",
    "\t\tdt = dt,#args.\n",
    "\t\tumbral = umbral)#args.\n",
    "\tif save_escenarios:#args.\n",
    "\t\tdentro = cuHigh.rain_radar2basin_from_array(vec = rhigh,\n",
    "\t\t\truta_out = rutaRes+'_high',#args.\n",
    "\t\t\tfecha = dates-dt.timedelta(hours = 5),\n",
    "\t\t\tdt = dt,#args.\n",
    "\t\t\tumbral = umbral)#args.\n",
    "\t\tdentro = cuLow.rain_radar2basin_from_array(vec = rlow,\n",
    "\t\t\truta_out = rutaRes+'_low',#args.\n",
    "\t\t\tfecha = dates-dt.timedelta(hours = 5),\n",
    "\t\t\tdt = dt,#args.\n",
    "\t\t\tumbral = umbral)#args.\n",
    "\tif dentro == 0: \n",
    "\t\thagalo = True\n",
    "\telse:\n",
    "\t\thagalo = False\n",
    "\t#mira si guarda o no los clasificados\n",
    "\tif save_class:#args.\n",
    "\t\t#Escribe el binario convectivo\n",
    "\t\taa = cuConv.rain_radar2basin_from_array(vec = Conv,\n",
    "\t\t\truta_out = rutaRes+'_conv',#args.\n",
    "\t\t\tfecha = dates-dt.timedelta(hours = 5),\n",
    "\t\t\tdt = dt,#args.\n",
    "\t\t\tdoit = hagalo)\n",
    "\t    #Escribe el binario estratiforme\n",
    "\t\taa = cuStra.rain_radar2basin_from_array(vec = Stra,\n",
    "\t\t\truta_out = rutaRes+'_stra',#args.\n",
    "\t\t\tfecha = dates-dt.timedelta(hours = 5),\n",
    "\t\t\tdt = dt,#args.\n",
    "\t\t\tdoit = hagalo)\t\n",
    "    #Opcion Vervose\n",
    "\tif verbose:#args.\n",
    "\t\tprint dates.strftime('%Y%m%d-%H:%M'), pos\n",
    "\n",
    "#Cierrra el binario y escribe encabezado\n",
    "cuAMVA.rain_radar2basin_from_array(status = 'close',ruta_out = rutaRes)#args.\n",
    "if save_class:#args.\n",
    "\tcuConv.rain_radar2basin_from_array(status = 'close',ruta_out = rutaRes+'_conv')#args.\n",
    "\tcuStra.rain_radar2basin_from_array(status = 'close',ruta_out = rutaRes+'_stra')#args.\n",
    "if save_escenarios:#args.\n",
    "\tcuHigh.rain_radar2basin_from_array(status = 'close',ruta_out = rutaRes+'_high')#args.\n",
    "\tcuLow.rain_radar2basin_from_array(status = 'close',ruta_out = rutaRes+'_low')#args.\n",
    "#Imprime en lo que va\n",
    "if verbose:#args.\n",
    "        print 'Encabezados de binarios de cuenca cerrados y listos'"
   ]
  },
  {
   "cell_type": "code",
   "execution_count": 18,
   "metadata": {},
   "outputs": [
    {
     "data": {
      "text/plain": [
       "[]"
      ]
     },
     "execution_count": 18,
     "metadata": {},
     "output_type": "execute_result"
    }
   ],
   "source": [
    "ListRutas"
   ]
  }
 ],
 "metadata": {
  "kernelspec": {
   "display_name": "Python 2",
   "language": "python",
   "name": "python2"
  },
  "language_info": {
   "codemirror_mode": {
    "name": "ipython",
    "version": 2
   },
   "file_extension": ".py",
   "mimetype": "text/x-python",
   "name": "python",
   "nbconvert_exporter": "python",
   "pygments_lexer": "ipython2",
   "version": "2.7.6"
  }
 },
 "nbformat": 4,
 "nbformat_minor": 2
}
