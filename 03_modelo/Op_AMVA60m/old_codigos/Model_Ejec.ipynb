{
 "cells": [
  {
   "cell_type": "markdown",
   "metadata": {},
   "source": [
    "#### Inputs de Cron Ejecucion"
   ]
  },
  {
   "cell_type": "code",
   "execution_count": 12,
   "metadata": {
    "collapsed": true
   },
   "outputs": [],
   "source": [
    "import pandas as pd \n",
    "import datetime as dt \n",
    "import os \n",
    "from wmf import wmf\n",
    "from multiprocessing import Pool\n",
    "import numpy as np\n",
    "import pickle \n",
    "import alarmas as al\n",
    "import glob \n",
    "import time\n",
    "import pylab as pl"
   ]
  },
  {
   "cell_type": "markdown",
   "metadata": {},
   "source": [
    "Bits of Cron Ejecucion"
   ]
  },
  {
   "cell_type": "code",
   "execution_count": 13,
   "metadata": {
    "collapsed": true
   },
   "outputs": [],
   "source": [
    "# Texto Fecha: el texto de fecha que se usa para guardar algunos archivos de figuras.\n",
    "daten = dt.datetime.now()\n",
    "dateText = dt.datetime.now().strftime('%Y-%m-%d-%H:%M')\n",
    "\n",
    "# print '\\n'\n",
    "# print '###################################### Fecha de Ejecucion: '+dateText+' #############################\\n'\n",
    "\n",
    "#Obtiene las rutas necesarias \n",
    "ruta_de_rutas = '/media/nicolas/Home/Jupyter/Soraya/Op_Alarmas/Op_AMVA60m/Rutas.md'\n",
    "RutasList = al.get_rutesList(ruta_de_rutas)\n",
    "\n",
    "# rutas de objetos de entrada\n",
    "ruta_cuenca = al.get_ruta(RutasList, 'ruta_cuenca')\n",
    "ruta_campos = al.get_ruta(RutasList, 'ruta_campos')\n",
    "ruta_codigos = al.get_ruta(RutasList, 'ruta_codigos')\n",
    "ruta_configuracion_1 = al.get_ruta(RutasList, 'ruta_configuracion_1')\n",
    "ruta_almacenamiento = al.get_ruta(RutasList, 'ruta_almacenamiento')\n",
    "# Rutas de objetos de salida\n",
    "ruta_out_rain = al.get_ruta(RutasList, 'ruta_rain')\n",
    "ruta_out_rain_png = al.get_ruta(RutasList, 'ruta_rain_png')"
   ]
  },
  {
   "cell_type": "markdown",
   "metadata": {},
   "source": [
    "Model_Ejec"
   ]
  },
  {
   "cell_type": "code",
   "execution_count": 14,
   "metadata": {
    "collapsed": true
   },
   "outputs": [],
   "source": [
    "#!/usr/bin/env python\n",
    "from wmf import wmf \n",
    "import argparse\n",
    "import textwrap\n",
    "import os \n",
    "import alarmas as al\n",
    "from multiprocessing import Pool\n",
    "import glob\n",
    "import pandas as pd \n",
    "import numpy as np "
   ]
  },
  {
   "cell_type": "code",
   "execution_count": 15,
   "metadata": {
    "collapsed": true
   },
   "outputs": [],
   "source": [
    "cuenca=ruta_cuenca\n",
    "rutaConfig=ruta_configuracion_1\n",
    "verbose=True"
   ]
  },
  {
   "cell_type": "code",
   "execution_count": 16,
   "metadata": {
    "collapsed": true
   },
   "outputs": [],
   "source": [
    "def model_warper(L):\n",
    "    #Ejecucion del modelo\n",
    "    Res = cu.run_shia(L[1],L[2],L[3],L[4], \n",
    "        StorageLoc = L[5], ruta_storage=L[6], kinematicN=12,QsimDataFrame=False)\n",
    "    #Escribe resultados \n",
    "    rutaqsim = ruta_Qsim +'_caudal/'+ QsimName +'_'+L[0].replace(' ','_').replace('-','')+'.msg'\n",
    "    Qsim = pd.DataFrame(Res['Qsim'][1:].T, \n",
    "        index=Rain.index, \n",
    "        columns=posControl)\n",
    "    try:\n",
    "        Qsim.to_msgpack(rutaqsim)\n",
    "    except:\n",
    "        'no sirve'\n",
    "    # \t#Actualiza historico de caudales simulados\n",
    "    # \trutaqhist = ruta_Qsim +'CaudalHistorico/'+ QsimName +'_'+L[0].replace(' ','_').replace('-','')+'_hist.msg'\n",
    "    # \tal.model_write_qsim(rutaqsim,rutaqhist,posControl)\n",
    "    # \t#Se actualizan los historicos de humedad de la parametrizacion asociada.\n",
    "    # \tal.model_write_Stosim(L[6][:-7]+'.StOhdr',L[7])\n",
    "    # \t#imprime que ya ejecuto\n",
    "    if verbose: #args.\n",
    "        print L[0]+' ejecutado'\n",
    "    return Res"
   ]
  },
  {
   "cell_type": "code",
   "execution_count": null,
   "metadata": {
    "collapsed": true
   },
   "outputs": [],
   "source": []
  },
  {
   "cell_type": "code",
   "execution_count": 17,
   "metadata": {},
   "outputs": [
    {
     "name": "stdout",
     "output_type": "stream",
     "text": [
      "4.9948\n"
     ]
    }
   ],
   "source": [
    "#lee todos los argumentos\n",
    "# args=parser.parse_args()\n",
    "\n",
    "############################ CONFIGURACION DE LA CUENCA #############################\n",
    "\n",
    "#Lee el archivo de configuracion\n",
    "ListConfig = al.get_rutesList(rutaConfig)#args.\n",
    "#informacion de la lluvia\n",
    "rutaRain = al.get_ruta(ListConfig, 'ruta_rainFile')\n",
    "rain_bin, rain_hdr = wmf.__Add_hdr_bin_2route__(rutaRain)\n",
    "DataRain = wmf.read_rain_struct(rain_hdr)\n",
    "Rain = wmf.read_mean_rain(rain_hdr)\n",
    "#Lee archivo de configuracion y la cuenca, almacenamiento \n",
    "cu = wmf.SimuBasin(rute=cuenca, SimSlides = True)#args.\n",
    "ruta_sto = al.get_ruta(ListConfig, 'ruta_almsim')\n",
    "ruta_stohist = al.get_ruta(ListConfig, 'ruta_almhist')\n",
    "ruta_out_sto = al.get_ruta(ListConfig, 'ruta_out_alm')\n",
    "ruta_out_slides = al.get_ruta(ListConfig, 'ruta_slides')\n",
    "ruta_slides_bin, ruta_slides_hdr = wmf.__Add_hdr_bin_2route__(ruta_out_slides)\n",
    "#Nombre de las simulaciones de caudal \n",
    "QsimName = al.get_ruta(ListConfig,'Qsim Name')\n",
    "ruta_Qsim = al.get_ruta(ListConfig, 'ruta_qsim')\n",
    "ruta_qsim_h = al.get_ruta(ListConfig, 'ruta_qsim_hist')\n",
    "\n",
    "#Set por defecto de la modelacion\n",
    "wmf.models.show_storage = 1\n",
    "wmf.models.separate_fluxes = 1\n",
    "wmf.models.dt = 300\n",
    "wmf.models.sl_fs = 0.5\n",
    "wmf.models.sim_slides = 1\n",
    "posControl = wmf.models.control[wmf.models.control<>0]\n",
    "\n",
    "\n",
    "#Param de configuracion\n",
    "Lparam = ['Dt[seg]','Dx[mts]',\n",
    "\t'Almacenamiento medio',\n",
    "\t'Separar Flujos',\n",
    "\t'ruta_almacenamiento',\n",
    "\t'Retorno',\n",
    "\t'Simular Deslizamientos',\n",
    "\t'Factor de Seguridad FS',\n",
    "\t'Factor Corrector Zg']\n",
    "DictParam = {}\n",
    "for i in Lparam:\n",
    "\ta = al.get_ruta(ListConfig, i)\n",
    "\tDictParam.update({i:a})\n",
    "\n",
    "#Nueva configuracion\n",
    "#Prepara el tiempo\n",
    "wmf.models.dt = float(DictParam['Dt[seg]'])\n",
    "wmf.models.retorno = float(DictParam['Retorno'])\n",
    "# Prepara los que son binarios (1) si (0) no\n",
    "if DictParam['Almacenamiento medio'] == 'True':\n",
    "\twmf.models.show_storage = 1\n",
    "if DictParam['Separar Flujos'] == 'True':\n",
    "\twmf.models.separate_fluxes = 1\n",
    "if DictParam['Simular Deslizamientos'] == 'True':\n",
    "\twmf.models.sim_slides = 1\n",
    "\twmf.models.sl_fs = float(DictParam['Factor de Seguridad FS'])\n",
    "\tcu.set_Slides(wmf.models.sl_zs * float(DictParam['Factor Corrector Zg']), 'Zs')\n",
    "print wmf.models.sl_zs.mean()\n",
    "\n",
    "############################ LECTURA DE CALIBRACIONES #############################\n",
    "\n",
    "#Lista de calibraciones\n",
    "DictCalib = al.get_modelConfig_lines(ListConfig, '-c', 'Calib')\n",
    "DictStore = al.get_modelConfig_lines(ListConfig, '-s', 'Store')\n",
    "\n",
    "############################ EJECUCION ###########################################\n",
    "\n",
    "#Prepara las ejecuciones\n",
    "ListEjecs = []\n",
    "Npasos = DataRain[u' Record'].shape[0]\n",
    "for i in DictStore.keys():\n",
    "\t#trata de leer el almacenamiento \n",
    "\tFileName = glob.glob(ruta_sto + DictStore[i]['Nombre'])\n",
    "\tif len(FileName):\n",
    "\t\tS = wmf.models.read_float_basin_ncol(ruta_sto+DictStore[i]['Nombre'],1,cu.ncells,5)[0]\n",
    "\telse:\n",
    "\t\t#no tiene sentido que las par que se pusieron corran sin sus C.I.\n",
    "\t\t#~ S = al.model_get_constStorage(List, cu.ncells)\n",
    "\t\tprint 'Error: No se leyeron los binarios de almacenamiento operacionales.'\n",
    "\t#Arma la ejecucion\n",
    "\tCalib = DictCalib[DictStore[i]['Calib']]\n",
    "\tListEjecs.append([i, Calib, rain_bin, Npasos, 1, S, ruta_sto+DictStore[i]['Nombre'],ruta_stohist+DictStore[i]['Nombre'][:-7]+'hist.msg'])"
   ]
  },
  {
   "cell_type": "code",
   "execution_count": 20,
   "metadata": {
    "collapsed": true
   },
   "outputs": [],
   "source": [
    "lol=ListEjecs[2]"
   ]
  },
  {
   "cell_type": "code",
   "execution_count": 24,
   "metadata": {},
   "outputs": [
    {
     "data": {
      "text/plain": [
       "['-s 001',\n",
       " [0.001, 150.0, 1.0, 0.0, 0.6, 4.0, 0.3, 0.99, 1.0, 1.0],\n",
       " '/media/nicolas/Home/Jupyter/Soraya/Op_Alarmas/Op_AMVA60m/03_Resultados/01_rain/Lluvia_actual.bin',\n",
       " 14,\n",
       " 1,\n",
       " array([[  3.79545361e-01,   0.00000000e+00,   0.00000000e+00, ...,\n",
       "           6.48877203e-01,   0.00000000e+00,   0.00000000e+00],\n",
       "        [  0.00000000e+00,   0.00000000e+00,   0.00000000e+00, ...,\n",
       "           0.00000000e+00,   0.00000000e+00,   0.00000000e+00],\n",
       "        [  0.00000000e+00,   0.00000000e+00,   0.00000000e+00, ...,\n",
       "           0.00000000e+00,   0.00000000e+00,   0.00000000e+00],\n",
       "        [  8.27264099e+02,   7.65037231e+02,   7.65037231e+02, ...,\n",
       "           9.54792786e+02,   9.79906860e+02,   1.06127771e+03],\n",
       "        [  0.00000000e+00,   0.00000000e+00,   0.00000000e+00, ...,\n",
       "           0.00000000e+00,   0.00000000e+00,   1.84643555e+01]], dtype=float32),\n",
       " '/media/nicolas/Home/Jupyter/Soraya/Op_Alarmas/Op_AMVA60m/03_Resultados/03_almacenamiento/CuBarbosa_001_001.StObin',\n",
       " '/media/nicolas/Home/Jupyter/Soraya/Op_Alarmas/Op_AMVA60m/03_Resultados/03_almacenamiento/01_almacenamiento_hist/CuBarbosa_001_001hist.msg']"
      ]
     },
     "execution_count": 24,
     "metadata": {},
     "output_type": "execute_result"
    }
   ],
   "source": [
    "ListEjecs[2]"
   ]
  },
  {
   "cell_type": "code",
   "execution_count": 16,
   "metadata": {
    "collapsed": true
   },
   "outputs": [],
   "source": [
    "def model_warper(L):\n",
    "    #Ejecucion del modelo\n",
    "    Res = cu.run_shia(L[1],L[2],L[3],L[4], \n",
    "        StorageLoc = L[5], ruta_storage=L[6], kinematicN=12,QsimDataFrame=False)\n",
    "    #Escribe resultados \n",
    "    rutaqsim = ruta_Qsim +'_caudal/'+ QsimName +'_'+L[0].replace(' ','_').replace('-','')+'.msg'\n",
    "    Qsim = pd.DataFrame(Res['Qsim'][1:].T, \n",
    "        index=Rain.index, \n",
    "        columns=posControl)\n",
    "    try:\n",
    "        Qsim.to_msgpack(rutaqsim)\n",
    "    except:\n",
    "        'no sirve'\n",
    "    # \t#Actualiza historico de caudales simulados\n",
    "    # \trutaqhist = ruta_Qsim +'CaudalHistorico/'+ QsimName +'_'+L[0].replace(' ','_').replace('-','')+'_hist.msg'\n",
    "    # \tal.model_write_qsim(rutaqsim,rutaqhist,posControl)\n",
    "    # \t#Se actualizan los historicos de humedad de la parametrizacion asociada.\n",
    "    # \tal.model_write_Stosim(L[6][:-7]+'.StOhdr',L[7])\n",
    "    # \t#imprime que ya ejecuto\n",
    "    if verbose: #args.\n",
    "        print L[0]+' ejecutado'\n",
    "    return Res"
   ]
  },
  {
   "cell_type": "code",
   "execution_count": 28,
   "metadata": {},
   "outputs": [
    {
     "name": "stdout",
     "output_type": "stream",
     "text": [
      "-s 001 ejecutado\n"
     ]
    }
   ],
   "source": [
    "Res=model_warper(lol)"
   ]
  },
  {
   "cell_type": "code",
   "execution_count": 25,
   "metadata": {
    "collapsed": true
   },
   "outputs": [],
   "source": [
    "L=lol"
   ]
  },
  {
   "cell_type": "code",
   "execution_count": 26,
   "metadata": {
    "collapsed": true
   },
   "outputs": [],
   "source": [
    "rutaqsim = ruta_Qsim +'_caudal/'+ QsimName +'_'+L[0].replace(' ','_').replace('-','')+'.msg'"
   ]
  },
  {
   "cell_type": "code",
   "execution_count": 27,
   "metadata": {},
   "outputs": [
    {
     "data": {
      "text/plain": [
       "'/media/nicolas/Home/Jupyter/Soraya/Op_Alarmas/Op_AMVA60m/03_Resultados/02_caudal/Qsim_Rain_s_001.msg'"
      ]
     },
     "execution_count": 27,
     "metadata": {},
     "output_type": "execute_result"
    }
   ],
   "source": [
    "rutaqsim"
   ]
  }
 ],
 "metadata": {
  "kernelspec": {
   "display_name": "Python 2",
   "language": "python",
   "name": "python2"
  },
  "language_info": {
   "codemirror_mode": {
    "name": "ipython",
    "version": 2
   },
   "file_extension": ".py",
   "mimetype": "text/x-python",
   "name": "python",
   "nbconvert_exporter": "python",
   "pygments_lexer": "ipython2",
   "version": "2.7.6"
  }
 },
 "nbformat": 4,
 "nbformat_minor": 2
}
