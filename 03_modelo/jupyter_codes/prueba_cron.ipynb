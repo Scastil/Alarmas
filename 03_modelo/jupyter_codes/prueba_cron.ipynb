{
 "cells": [
  {
   "cell_type": "code",
   "execution_count": 1,
   "metadata": {
    "collapsed": true
   },
   "outputs": [],
   "source": [
    "#!/usr/bin/env python\n",
    "import pandas as pd \n",
    "import datetime as dt \n",
    "import os \n",
    "from wmf import wmf\n",
    "from multiprocessing import Pool\n",
    "import numpy as np\n",
    "import pickle \n",
    "import alarmas as al\n",
    "import glob \n",
    "import time\n",
    "import pylab as pl\n",
    "import json\n",
    "import warnings\n",
    "warnings.filterwarnings('ignore')"
   ]
  },
  {
   "cell_type": "code",
   "execution_count": 8,
   "metadata": {},
   "outputs": [
    {
     "name": "stdout",
     "output_type": "stream",
     "text": [
      "\n",
      "\n",
      "###################################### Fecha de Ejecucion: 2018-01-23-13:40 #############################\n",
      "\n",
      "###################################### CONSULTA DE LA LLUVIA Y EXTRAPOLACION ############################\n",
      "\n",
      "/media/nicolas/Home/nicolas/101_RadarClass/201801231832_010_120.nc\n",
      "Encabezados de binarios de cuenca cerrados y listos, campos generados en: \n",
      "/media/nicolas/Home/Jupyter/Soraya/git/Alarmas/03_modelo/Op_AMVA60m/results/01_rain/Lluvia_actual\n",
      "\n",
      "\n",
      "\n",
      "###################################### FIN DEL CRON: 2018-01-23-13:40 #############################\n",
      "\n"
     ]
    }
   ],
   "source": [
    "# comando='python /media/nicolas/Home/Jupyter/Soraya/git/Alarmas/03_modelo/Op_AMVA60m/Cron_Ejecucion.py'\n",
    "# os.system(comando)\n",
    "%run ../../03_modelo/Op_AMVA60m/Cron_Ejecucion.py"
   ]
  },
  {
   "cell_type": "code",
   "execution_count": 6,
   "metadata": {},
   "outputs": [
    {
     "data": {
      "text/plain": [
       "'/media/nicolas/Home/Jupyter/Soraya/git/Alarmas/03_modelo/Op_AMVA60m/results/01_rain/Lluvia_historica'"
      ]
     },
     "execution_count": 6,
     "metadata": {},
     "output_type": "execute_result"
    }
   ],
   "source": [
    "lluvia_historica"
   ]
  },
  {
   "cell_type": "code",
   "execution_count": null,
   "metadata": {
    "collapsed": true
   },
   "outputs": [],
   "source": []
  }
 ],
 "metadata": {
  "kernelspec": {
   "display_name": "Python 2",
   "language": "python",
   "name": "python2"
  },
  "language_info": {
   "codemirror_mode": {
    "name": "ipython",
    "version": 2
   },
   "file_extension": ".py",
   "mimetype": "text/x-python",
   "name": "python",
   "nbconvert_exporter": "python",
   "pygments_lexer": "ipython2",
   "version": "2.7.6"
  }
 },
 "nbformat": 4,
 "nbformat_minor": 2
}
