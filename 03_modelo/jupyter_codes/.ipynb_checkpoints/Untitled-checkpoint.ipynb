{
 "cells": [
  {
   "cell_type": "code",
   "execution_count": 20,
   "metadata": {
    "collapsed": true
   },
   "outputs": [],
   "source": [
    "\n",
    "#!/usr/bin/env python\n",
    "import pandas as pd \n",
    "import datetime as dt \n",
    "import os \n",
    "from wmf import wmf\n",
    "from multiprocessing import Pool\n",
    "import numpy as np\n",
    "import pickle \n",
    "import alarmas as al\n",
    "import glob \n",
    "import time\n",
    "import pylab as pl\n",
    "import json\n",
    "import datetime\n",
    "import warnings\n",
    "warnings.filterwarnings('ignore')"
   ]
  },
  {
   "cell_type": "code",
   "execution_count": null,
   "metadata": {
    "collapsed": true
   },
   "outputs": [],
   "source": []
  },
  {
   "cell_type": "code",
   "execution_count": 2,
   "metadata": {
    "collapsed": true
   },
   "outputs": [],
   "source": [
    "ruta_configuracion_1 = '/media/nicolas/Home/Jupyter/Soraya/git/Alarmas/03_modelo/Op_AMVA60m/configfile.md'\n",
    "RutasList = al.get_rutesList(ruta_configuracion_1)\n",
    "\n",
    "# Lee rutas de objetos de entrada\n",
    "ruta_cuenca = al.get_ruta(RutasList, 'ruta_cuenca')\n",
    "ruta_campos = al.get_ruta(RutasList, 'ruta_campos')\n",
    "# Lee rutas de salida - lluvia radar\n",
    "ruta_out_rain = al.get_ruta(RutasList, 'ruta_rain')\n",
    "ruta_out_rain_png = al.get_ruta(RutasList, 'ruta_rain_png')\n",
    "\n",
    "cuenca = wmf.SimuBasin(rute = ruta_cuenca, SimSlides = True)\n",
    "\n",
    "rutaConfig=ruta_configuracion_1"
   ]
  },
  {
   "cell_type": "code",
   "execution_count": null,
   "metadata": {
    "collapsed": true
   },
   "outputs": [],
   "source": []
  },
  {
   "cell_type": "code",
   "execution_count": 11,
   "metadata": {},
   "outputs": [
    {
     "data": {
      "text/plain": [
       "'/media/nicolas/Home/Jupyter/Soraya/git/Alarmas/03_modelo/Op_AMVA60m/results/01_rain/Lluvia_historica'"
      ]
     },
     "execution_count": 11,
     "metadata": {},
     "output_type": "execute_result"
    }
   ],
   "source": [
    "rutaRes=ruta_out_rain+'Lluvia_historica'\n",
    "rutaRes"
   ]
  },
  {
   "cell_type": "markdown",
   "metadata": {},
   "source": [
    "cuenca.rain_radar2basin_from_array(status='old',ruta_out= rutaRes)"
   ]
  },
  {
   "cell_type": "code",
   "execution_count": 10,
   "metadata": {
    "collapsed": true
   },
   "outputs": [],
   "source": [
    "def rain_radar2basin_from_array(self,vec=None,ruta_out=None,fecha=None,dt=None,\n",
    "    status='update',umbral = 0.01, doit = False):\n",
    "    'Descripcion: Genera campos de lluvia a partir de archivos array\\n'\\\n",
    "    '\\n'\\\n",
    "    'Parametros\\n'\\\n",
    "    '----------\\n'\\\n",
    "    'self : .\\n'\\\n",
    "    'vec: Array en forma de la cuenca con la informacion.\\n'\\\n",
    "    'ruta_out: Ruta donde escribe el binario con la lluvia.\\n'\\\n",
    "    'fecha: Fecha del registro actual.\\n'\\\n",
    "    'dt: Intervalo de tiempo entre registros.\\n'\\\n",
    "    'status: Estado en el cual se encuentra el binario que se va a pasar a campo.\\n'\\\n",
    "    '   update: (Defecto) Con este estado se genera un binario y se agregan nuevos campos.\\n'\\\n",
    "    '   old: Estado para abrir y tomar las propiedades de self.radar.. para la generacion de un binario.\\n'\\\n",
    "    '   close: Cierra un binario que se ha generado mediante update.\\n'\\\n",
    "    '   reset: Reinicia las condiciones de self.radar... para la creacion de un campo nuevo.\\n'\\\n",
    "    'doit: Independiente del umbral escribe el binario en la siguiente entrada.\\n'\\\n",
    "    'Retornos\\n'\\\n",
    "    '----------\\n'\\\n",
    "    'Guarda el binario, no hay retorno\\n'\\\n",
    "    'meanRain :  La serie de lluvia promedio.\\n'\\\n",
    "    '\\n'\\\n",
    "    'Mirar Tambien\\n'\\\n",
    "    '----------\\n'\\\n",
    "    'rain_interpolate_idw: interpola campos mediante la metodologia idw.\\n'\\\n",
    "    'rain_radar2basin_from_asc: Mete campos de lluvia mediante multiples arrays.\\n'\\\n",
    "    #Edita la ruta de salida \n",
    "    if ruta_out  is not  None:\n",
    "        if ruta_out.endswith('.hdr') or ruta_out.endswith('.bin'):\n",
    "            ruta_bin = ruta_out[:-3]+'.bin'\n",
    "            ruta_hdr = ruta_out[:-3]+'.hdr'\n",
    "        else:\n",
    "            ruta_bin = ruta_out+'.bin'\n",
    "            ruta_hdr = ruta_out+'.hdr'\n",
    "    #Establece la cantidad de elementos de acuerdo al tipo de cuenca\n",
    "    if self.modelType[0] is 'c':\n",
    "        N = self.ncells\n",
    "    elif self.modelType[0] is 'h':\n",
    "        N = self.nhills\n",
    "        try:\n",
    "            if vec.shape[0]  == self.ncells:\n",
    "                vec = self.Transform_Basin2Hills(vec,sumORmean=1)\n",
    "        except:\n",
    "            pass\n",
    "    # De acerudo al estado actualiza las variables o guarda el \n",
    "    # binario final \n",
    "    actualizo = 1\n",
    "    if status == 'update':\n",
    "        #Entrada 1 es la entrada de campos sin lluvia \n",
    "        if len(self.radarDates) == 0:\n",
    "            models.write_int_basin(ruta_bin,np.zeros((1,N)),1,N,1)\n",
    "        if vec.mean() > umbral or doit:\n",
    "            #Actualiza contador, lluvia media y pocisiones \n",
    "            self.radarCont +=1\n",
    "            self.radarMeanRain.append(vec.mean())\n",
    "            self.radarPos.append(self.radarCont)\n",
    "            #Guarda el vector \n",
    "            vec = vec*1000; vec = vec.astype(int)\n",
    "            models.write_int_basin(ruta_bin,np.zeros((1,N))+vec,\n",
    "                self.radarCont,N,1)\n",
    "            actualizo = 0\n",
    "        else:\n",
    "            #lluvia media y pocisiones \n",
    "            self.radarMeanRain.append(0.0)\n",
    "            self.radarPos.append(1)\n",
    "        self.radarDates.append(fecha)\n",
    "    #Si ya no va a agregar nada, no agrega mas campos y genera el .hdr \n",
    "    elif status == 'close':\n",
    "        self.radarMeanRain = np.array(self.radarMeanRain)\n",
    "        self.radarPos = np.array(self.radarPos)\n",
    "        #Guarda un archivo con informacion de la lluvia \n",
    "        f=open(ruta_hdr[:-3]+'hdr','w')\n",
    "        f.write('Numero de celdas: %d \\n' % self.ncells)\n",
    "        f.write('Numero de laderas: %d \\n' % self.nhills)\n",
    "        f.write('Numero de registros: %d \\n' % self.radarMeanRain.shape[0])\n",
    "        f.write('Numero de campos no cero: %d \\n' % self.radarPos.max())\n",
    "        f.write('Tipo de interpolacion: radar \\n')\n",
    "        f.write('IDfecha, Record, Lluvia, Fecha \\n')\n",
    "        c = 1\n",
    "        for d,pos,m in zip(self.radarDates,\n",
    "            self.radarPos,self.radarMeanRain):\n",
    "            f.write('%d, \\t %d, \\t %.2f, %s \\n' % (c,pos,m,d.strftime('%Y-%m-%d-%H:%M')))\n",
    "            c+=1\n",
    "        f.close()\n",
    "        #Vuelve las variables listas de nuevo \n",
    "        self.radarMeanRain = self.radarMeanRain.tolist()\n",
    "        self.radarPos = self.radarPos.tolist()\n",
    "    elif status == 'reset':\n",
    "        #Variables de radar\n",
    "        self.radarDates = []\n",
    "        self.radarPos = []\n",
    "        self.radarMeanRain = []\n",
    "        self.radarCont = 1\n",
    "    elif status == 'old':\n",
    "        #si es un archivo viejo, lo abre para tomar las variables y continuar en ese punto \n",
    "        f=open(ruta_hdr[:-3]+'hdr','r')\n",
    "        Lista = f.readlines()\n",
    "        self.radarCont = int(Lista[3].split()[-1])\n",
    "        cantidadIds = int(Lista[2].split()[-1])\n",
    "        f.close()\n",
    "        #Abre con numpy para simplificar las cosas \n",
    "        a = np.loadtxt(ruta_hdr,skiprows=6,dtype='str').T\n",
    "        if self.radarCont >= 1 and cantidadIds > 1:\n",
    "            self.radarPos = [int(i.split(',')[0]) for i in a[1]]\n",
    "            self.radarMeanRain = [float(i.split(',')[0]) for i in a[2]]\n",
    "            for i in a[3]:\n",
    "                d = datetime.datetime.strptime(i,'%Y-%m-%d-%H:%M')\n",
    "                self.radarDates.append(d)\n",
    "        else:\n",
    "            self.radarPos = [int(a[1].split(',')[0])]\n",
    "            self.radarMeanRain = [float(a[2].split(',')[0])]\n",
    "            self.radarDates = [datetime.datetime.strptime(a[-1], '%Y-%m-%d-%H:%M')]\n",
    "    return actualizo "
   ]
  },
  {
   "cell_type": "code",
   "execution_count": 27,
   "metadata": {},
   "outputs": [
    {
     "data": {
      "text/plain": [
       "'/media/nicolas/Home/Jupyter/Soraya/git/Alarmas/03_modelo/Op_AMVA60m/results/01_rain/Lluvia_historica'"
      ]
     },
     "execution_count": 27,
     "metadata": {},
     "output_type": "execute_result"
    }
   ],
   "source": [
    "rutaRes"
   ]
  },
  {
   "cell_type": "code",
   "execution_count": 23,
   "metadata": {
    "collapsed": true
   },
   "outputs": [],
   "source": [
    "rutebin=ruta_out_rain+'Lluvia_actual.bin'"
   ]
  },
  {
   "cell_type": "code",
   "execution_count": 25,
   "metadata": {
    "collapsed": true
   },
   "outputs": [],
   "source": [
    "v,r = wmf.models.read_int_basin(rutebin,1, cuenca.ncells)"
   ]
  },
  {
   "cell_type": "code",
   "execution_count": 31,
   "metadata": {},
   "outputs": [
    {
     "data": {
      "text/plain": [
       "Timestamp('2018-01-23 13:35:00')"
      ]
     },
     "execution_count": 31,
     "metadata": {},
     "output_type": "execute_result"
    }
   ],
   "source": [
    "rutehdr=ruta_out_rain+'Lluvia_actual.hdr'\n",
    "p=wmf.read_mean_rain(rutehdr)\n",
    "p.index[0]"
   ]
  },
  {
   "cell_type": "code",
   "execution_count": 32,
   "metadata": {},
   "outputs": [
    {
     "data": {
      "text/plain": [
       "1"
      ]
     },
     "execution_count": 32,
     "metadata": {},
     "output_type": "execute_result"
    }
   ],
   "source": [
    "rain_radar2basin_from_array(cuenca,vec=v,ruta_out=rutaRes,fecha=p.index[0],dt=300,\n",
    "    status='old',umbral = 0.01, doit = False)"
   ]
  }
 ],
 "metadata": {
  "kernelspec": {
   "display_name": "Python 2",
   "language": "python",
   "name": "python2"
  },
  "language_info": {
   "codemirror_mode": {
    "name": "ipython",
    "version": 2
   },
   "file_extension": ".py",
   "mimetype": "text/x-python",
   "name": "python",
   "nbconvert_exporter": "python",
   "pygments_lexer": "ipython2",
   "version": "2.7.6"
  }
 },
 "nbformat": 4,
 "nbformat_minor": 2
}
