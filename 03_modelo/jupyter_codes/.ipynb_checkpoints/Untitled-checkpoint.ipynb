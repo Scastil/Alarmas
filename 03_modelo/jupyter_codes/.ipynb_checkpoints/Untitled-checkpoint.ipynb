{
 "cells": [
  {
   "cell_type": "code",
   "execution_count": 11,
   "metadata": {
    "collapsed": true
   },
   "outputs": [],
   "source": [
    "from wmf import wmf \n",
    "import argparse\n",
    "import textwrap\n",
    "import os \n",
    "import alarmas as al\n",
    "import pandas as pd \n",
    "import datetime as dt "
   ]
  },
  {
   "cell_type": "code",
   "execution_count": 39,
   "metadata": {
    "collapsed": true
   },
   "outputs": [],
   "source": [
    "def model_update_norain_last(key, ruta_rain_temp, DictUpdate, ruta_bck_sto, ruta_sto, DictStore, date, umbral = 1):\n",
    "    #lee la lluvia temporal\n",
    "    rainHist = pd.read_csv(ruta_rain_temp, \n",
    "        index_col=3, parse_dates=True, \n",
    "        infer_datetime_format=True, header=None)\n",
    "    #Suma la lluvia\n",
    "    if rainHist[2].sum() < umbral:\n",
    "        if DictUpdate['-t '+k[3:]]['Nombre'] <> 'None':\n",
    "            #Remplaza el archivo\n",
    "            comando = 'cp '+ruta_bck_sto+DictUpdate['-t '+key[3:]]['Nombre']+' '+ruta_sto+DictStore[key]['Nombre']\n",
    "            os.system(comando)\n",
    "            #Actualiza la fecha de actualizacion \n",
    "            DictUpdate['-t '+key[3:]]['LastUpdate'] = date\n",
    "            return 0\n",
    "        else:\n",
    "            return 1\n",
    "    else:\n",
    "        return 1\n",
    "\n",
    "def model_update_norain_next(key, Rain, DictUpdate,ruta_bck_sto, ruta_sto, DictStore, date, umbral = 1):\n",
    "    #Suma la lluvia\n",
    "    if Rain.sum()<umbral:\n",
    "        if DictUpdate['-t '+k[3:]]['Nombre'] <> 'None':\n",
    "            #remplaza\n",
    "            comando = 'cp '+ruta_bck_sto+DictUpdate['-t '+key[3:]]['Nombre']+' '+ruta_sto+DictStore[key]['Nombre']\n",
    "            os.system(comando)\n",
    "            #Actualiza la fecha de actualizacion \n",
    "            DictUpdate['-t '+key[3:]]['LastUpdate'] = date\n",
    "            return 0\n",
    "        else:\n",
    "            return 1\n",
    "    else:\n",
    "        return 1\n",
    "\n",
    "def model_update_norain(key, ruta_rain_temp, Rain, DictUpdate, ruta_bck_sto,ruta_sto,DictStore, date, umbral = 1):\n",
    "    #lee la lluvia temporal\n",
    "    rainHist = pd.read_csv(ruta_rain_temp, \n",
    "        index_col=3, parse_dates=True, \n",
    "        infer_datetime_format=True, header=None,)\n",
    "    #Suma la lluvia\n",
    "    if rainHist[2].sum() < umbral and Rain.sum()<umbral:\n",
    "        if DictUpdate['-t '+k[3:]]['Nombre'] <> 'None':\n",
    "            #Remplaza\n",
    "            comando = 'cp '+ruta_bck_sto+DictUpdate['-t '+key[3:]]['Nombre']+' '+ruta_sto+DictStore[key]['Nombre']\n",
    "            os.system(comando)\n",
    "            #Actualiza la fecha de actualizacion \n",
    "            DictUpdate['-t '+key[3:]]['LastUpdate'] = date\n",
    "            return 0\n",
    "        else:\n",
    "            return 1\n",
    "    else:\n",
    "        return 1"
   ]
  },
  {
   "cell_type": "code",
   "execution_count": 13,
   "metadata": {
    "collapsed": true
   },
   "outputs": [],
   "source": [
    "def Model_Update_Store(date,rutaRain,ruta_rain_hist,ruta_rain_temp,ruta_sto,ruta_bck_sto,DeltaT,DictStore,DictUpdate,ruta_configuracion_1):\n",
    "    #informacion de la lluvia\n",
    "    rain_bin, rain_hdr = wmf.__Add_hdr_bin_2route__(rutaRain)\n",
    "    DataRain = wmf.read_rain_struct(rain_hdr)\n",
    "    Rain = wmf.read_mean_rain(rain_hdr)\n",
    "\n",
    "    ############################ ACTUALIZACION ###########################################\n",
    "\n",
    "    #Fecha Actual pasada como parametro\n",
    "    DateNow = pd.to_datetime(date)\n",
    "    #Calcula la cantidad de horas desde la ultima actualizacion\n",
    "    for k in DictUpdate.keys():\n",
    "        dat = pd.to_datetime(DictUpdate[k]['LastUpdate'])\n",
    "        deltaT = DateNow - dat\n",
    "        DictUpdate[k].update({'Horas': deltaT.total_seconds()/3600.0})\n",
    "    #si la cantidad de horas es inferior al umbral evalua si cumple la \n",
    "    #regla establecida \n",
    "    for k in DictStore.keys():\n",
    "        #Evalua si esas condiciones se van a actualizar o no, y si cumplen\n",
    "        #el tiempo sin ser actualizadas\n",
    "        if DictStore[k]['Actualizar'] == 'True':\n",
    "            if DictUpdate['-t '+k[3:]]['Horas'] > DictStore[k]['Tiempo']:\n",
    "\n",
    "                #CASO 1: NO RAIN: no hay lluvia atras ni adelante.\n",
    "                if DictStore[k]['Condition'][:-3] == 'No Rain':\n",
    "                    #Obtiene las horas de la condicion\n",
    "                    hours = float(DictStore[k]['Condition'][-3:-1])\n",
    "                    al.get_rain_last_hours(ruta_rain_hist,ruta_rain_temp,hours, DeltaT)\n",
    "                    estado = model_update_norain(k,ruta_rain_temp, Rain, DictUpdate, ruta_bck_sto,ruta_sto,DictStore, date, umbral)\n",
    "\n",
    "                #CASO 2: NO RAIN NEXT: No hay lluvia adelante.\n",
    "                elif DictStore[k]['Condition'][:-3] == 'No Rain Next':\n",
    "                    estado = model_update_norain_next(k, Rain, DictUpdate,ruta_bck_sto, ruta_sto, DictStore, date, umbral)\n",
    "\n",
    "                #CASO 3: NO RAIN LAST: no hay lluvia atras.\n",
    "                elif DictStore[k]['Condition'][:-3] == 'No Rain Last':\n",
    "                    #Obtiene las horas de la condicion\n",
    "                    hours = float(DictStore[k]['Condition'][-3:-1])\n",
    "                    al.get_rain_last_hours(ruta_rain_hist,ruta_rain_temp,hours, DeltaT)\n",
    "                    estado = model_update_norain_last(k, ruta_rain_temp, DictUpdate, ruta_bck_sto, ruta_sto, DictStore, date, umbral)\n",
    "                #CASO 4: ...\n",
    "\n",
    "                #si esta diciendo lo que hace dice:\n",
    "                if verbose:\n",
    "                    if estado == 0:\n",
    "                        print 'Aviso: Se han remplazado los estados de: '+k\n",
    "                    else:\n",
    "                        print 'Aviso: No se han remplazado los estados de: '+k\n",
    "\n",
    "    #Actualiza las fechas dentro del archivo de configuracion \n",
    "    #Lee el archivo de configuracion\n",
    "    ListConfig = al.get_rutesList(rutaConfig)\n",
    "    #Obtiene las posiciones en la tabla\n",
    "    pos = []\n",
    "    key = '-t'\n",
    "    for c,i in enumerate(ListConfig):\n",
    "        if i.startswith('|'+key) or i.startswith('| '+key):\n",
    "            pos.append(c)\n",
    "    #Ordena las reglas \n",
    "    Keys = DictUpdate.keys()\n",
    "    Keys.sort()\n",
    "    #Obtiene las nuevas \n",
    "    for c,p in enumerate(pos):\n",
    "        ListConfig[p] = '| '+Keys[c]+'|'+DictUpdate[Keys[c]]['Nombre']+'|'+DictUpdate[Keys[c]]['LastUpdate']+'|\\n'\n",
    "    #Escribe el nuevo archivo \n",
    "    f = open(rutaConfig,'w')\n",
    "    f.writelines(ListConfig)\n",
    "    f.close()"
   ]
  },
  {
   "cell_type": "code",
   "execution_count": null,
   "metadata": {
    "collapsed": true
   },
   "outputs": [],
   "source": []
  },
  {
   "cell_type": "code",
   "execution_count": null,
   "metadata": {
    "collapsed": true
   },
   "outputs": [],
   "source": []
  },
  {
   "cell_type": "code",
   "execution_count": null,
   "metadata": {
    "collapsed": true
   },
   "outputs": [],
   "source": []
  },
  {
   "cell_type": "code",
   "execution_count": null,
   "metadata": {
    "collapsed": true
   },
   "outputs": [],
   "source": []
  },
  {
   "cell_type": "code",
   "execution_count": 30,
   "metadata": {
    "collapsed": true
   },
   "outputs": [],
   "source": [
    "ruta_configuracion_1 = '/media/nicolas/Home/Jupyter/Soraya/git/Alarmas/03_modelo/Op_AMVA60m/configfile.md'\n",
    "RutasList = al.get_rutesList(ruta_configuracion_1)\n",
    "ruta_out_rain = al.get_ruta(RutasList, 'ruta_rain')\n",
    "lluvia_actual = ruta_out_rain + 'Lluvia_actual'"
   ]
  },
  {
   "cell_type": "code",
   "execution_count": 31,
   "metadata": {
    "collapsed": true
   },
   "outputs": [],
   "source": [
    "date='2018-01-15 21:50:00'\n",
    "rutaRain=lluvia_actual+'.bin'\n",
    "ruta_rain_hist = al.get_ruta(RutasList, 'ruta_rainHistoryFile')\n",
    "ruta_sto = al.get_ruta(RutasList, 'ruta_almsim')\n",
    "ruta_bck_sto = al.get_ruta(RutasList, 'ruta_bkc_alm')\n",
    "DeltaT = float(al.get_ruta(RutasList, 'Dt[seg]'))\n",
    "#Lista de calibraciones\n",
    "DictStore = al.get_modelConfig_lines(RutasList, '-s', 'Store')\n",
    "DictUpdate = al.get_modelConfig_lines(RutasList, '-t', 'Update')\n",
    "ruta_rain_temp = '/var/tmp/RainTemp.hdr'\n",
    "verbose=True\n",
    "# al.Model_Update_Store(date,rutaRain,ruta_rain_hist,ruta_sto,ruta_bck_sto,DeltaT,DictStore,DictUpdate)"
   ]
  },
  {
   "cell_type": "code",
   "execution_count": 27,
   "metadata": {
    "collapsed": true
   },
   "outputs": [],
   "source": [
    "Model_Update_Store(date,rutaRain,ruta_rain_hist,ruta_rain_temp,ruta_sto,ruta_bck_sto,DeltaT,DictStore,DictUpdate,ruta_configuracion_1)"
   ]
  },
  {
   "cell_type": "code",
   "execution_count": null,
   "metadata": {
    "collapsed": true
   },
   "outputs": [],
   "source": []
  },
  {
   "cell_type": "code",
   "execution_count": 21,
   "metadata": {
    "collapsed": true
   },
   "outputs": [],
   "source": [
    "rutaConfig=ruta_configuracion_1"
   ]
  },
  {
   "cell_type": "code",
   "execution_count": 40,
   "metadata": {},
   "outputs": [
    {
     "name": "stdout",
     "output_type": "stream",
     "text": [
      "this way\n"
     ]
    },
    {
     "ename": "EmptyDataError",
     "evalue": "No columns to parse from file",
     "output_type": "error",
     "traceback": [
      "\u001b[0;31m---------------------------------------------------------------------------\u001b[0m",
      "\u001b[0;31mEmptyDataError\u001b[0m                            Traceback (most recent call last)",
      "\u001b[0;32m<ipython-input-40-366590dd4677>\u001b[0m in \u001b[0;36m<module>\u001b[0;34m()\u001b[0m\n\u001b[1;32m     26\u001b[0m                 \u001b[0mhours\u001b[0m \u001b[0;34m=\u001b[0m \u001b[0mfloat\u001b[0m\u001b[0;34m(\u001b[0m\u001b[0mDictStore\u001b[0m\u001b[0;34m[\u001b[0m\u001b[0mk\u001b[0m\u001b[0;34m]\u001b[0m\u001b[0;34m[\u001b[0m\u001b[0;34m'Condition'\u001b[0m\u001b[0;34m]\u001b[0m\u001b[0;34m[\u001b[0m\u001b[0;34m-\u001b[0m\u001b[0;36m3\u001b[0m\u001b[0;34m:\u001b[0m\u001b[0;34m-\u001b[0m\u001b[0;36m1\u001b[0m\u001b[0;34m]\u001b[0m\u001b[0;34m)\u001b[0m\u001b[0;34m\u001b[0m\u001b[0m\n\u001b[1;32m     27\u001b[0m                 \u001b[0mal\u001b[0m\u001b[0;34m.\u001b[0m\u001b[0mget_rain_last_hours\u001b[0m\u001b[0;34m(\u001b[0m\u001b[0mruta_rain_hist\u001b[0m\u001b[0;34m,\u001b[0m\u001b[0mruta_rain_temp\u001b[0m\u001b[0;34m,\u001b[0m\u001b[0mhours\u001b[0m\u001b[0;34m,\u001b[0m \u001b[0mDeltaT\u001b[0m\u001b[0;34m)\u001b[0m\u001b[0;34m\u001b[0m\u001b[0m\n\u001b[0;32m---> 28\u001b[0;31m                 \u001b[0mestado\u001b[0m \u001b[0;34m=\u001b[0m \u001b[0mmodel_update_norain\u001b[0m\u001b[0;34m(\u001b[0m\u001b[0mk\u001b[0m\u001b[0;34m,\u001b[0m\u001b[0mruta_rain_temp\u001b[0m\u001b[0;34m,\u001b[0m \u001b[0mRain\u001b[0m\u001b[0;34m,\u001b[0m \u001b[0mDictUpdate\u001b[0m\u001b[0;34m,\u001b[0m \u001b[0mruta_bck_sto\u001b[0m\u001b[0;34m,\u001b[0m\u001b[0mruta_sto\u001b[0m\u001b[0;34m,\u001b[0m\u001b[0mDictStore\u001b[0m\u001b[0;34m,\u001b[0m \u001b[0mdate\u001b[0m\u001b[0;34m)\u001b[0m\u001b[0;34m\u001b[0m\u001b[0m\n\u001b[0m\u001b[1;32m     29\u001b[0m \u001b[0;34m\u001b[0m\u001b[0m\n\u001b[1;32m     30\u001b[0m             \u001b[0;31m#CASO 2: NO RAIN NEXT: No hay lluvia adelante.\u001b[0m\u001b[0;34m\u001b[0m\u001b[0;34m\u001b[0m\u001b[0m\n",
      "\u001b[0;32m<ipython-input-39-1e6242979ba6>\u001b[0m in \u001b[0;36mmodel_update_norain\u001b[0;34m(key, ruta_rain_temp, Rain, DictUpdate, ruta_bck_sto, ruta_sto, DictStore, date, umbral)\u001b[0m\n\u001b[1;32m     37\u001b[0m     rainHist = pd.read_csv(ruta_rain_temp, \n\u001b[1;32m     38\u001b[0m         \u001b[0mindex_col\u001b[0m\u001b[0;34m=\u001b[0m\u001b[0;36m3\u001b[0m\u001b[0;34m,\u001b[0m \u001b[0mparse_dates\u001b[0m\u001b[0;34m=\u001b[0m\u001b[0mTrue\u001b[0m\u001b[0;34m,\u001b[0m\u001b[0;34m\u001b[0m\u001b[0m\n\u001b[0;32m---> 39\u001b[0;31m         infer_datetime_format=True, header=None,)\n\u001b[0m\u001b[1;32m     40\u001b[0m     \u001b[0;31m#Suma la lluvia\u001b[0m\u001b[0;34m\u001b[0m\u001b[0;34m\u001b[0m\u001b[0m\n\u001b[1;32m     41\u001b[0m     \u001b[0;32mif\u001b[0m \u001b[0mrainHist\u001b[0m\u001b[0;34m[\u001b[0m\u001b[0;36m2\u001b[0m\u001b[0;34m]\u001b[0m\u001b[0;34m.\u001b[0m\u001b[0msum\u001b[0m\u001b[0;34m(\u001b[0m\u001b[0;34m)\u001b[0m \u001b[0;34m<\u001b[0m \u001b[0mumbral\u001b[0m \u001b[0;32mand\u001b[0m \u001b[0mRain\u001b[0m\u001b[0;34m.\u001b[0m\u001b[0msum\u001b[0m\u001b[0;34m(\u001b[0m\u001b[0;34m)\u001b[0m\u001b[0;34m<\u001b[0m\u001b[0mumbral\u001b[0m\u001b[0;34m:\u001b[0m\u001b[0;34m\u001b[0m\u001b[0m\n",
      "\u001b[0;32m/usr/local/lib/python2.7/dist-packages/pandas/io/parsers.pyc\u001b[0m in \u001b[0;36mparser_f\u001b[0;34m(filepath_or_buffer, sep, delimiter, header, names, index_col, usecols, squeeze, prefix, mangle_dupe_cols, dtype, engine, converters, true_values, false_values, skipinitialspace, skiprows, nrows, na_values, keep_default_na, na_filter, verbose, skip_blank_lines, parse_dates, infer_datetime_format, keep_date_col, date_parser, dayfirst, iterator, chunksize, compression, thousands, decimal, lineterminator, quotechar, quoting, escapechar, comment, encoding, dialect, tupleize_cols, error_bad_lines, warn_bad_lines, skipfooter, skip_footer, doublequote, delim_whitespace, as_recarray, compact_ints, use_unsigned, low_memory, buffer_lines, memory_map, float_precision)\u001b[0m\n\u001b[1;32m    653\u001b[0m                     skip_blank_lines=skip_blank_lines)\n\u001b[1;32m    654\u001b[0m \u001b[0;34m\u001b[0m\u001b[0m\n\u001b[0;32m--> 655\u001b[0;31m         \u001b[0;32mreturn\u001b[0m \u001b[0m_read\u001b[0m\u001b[0;34m(\u001b[0m\u001b[0mfilepath_or_buffer\u001b[0m\u001b[0;34m,\u001b[0m \u001b[0mkwds\u001b[0m\u001b[0;34m)\u001b[0m\u001b[0;34m\u001b[0m\u001b[0m\n\u001b[0m\u001b[1;32m    656\u001b[0m \u001b[0;34m\u001b[0m\u001b[0m\n\u001b[1;32m    657\u001b[0m     \u001b[0mparser_f\u001b[0m\u001b[0;34m.\u001b[0m\u001b[0m__name__\u001b[0m \u001b[0;34m=\u001b[0m \u001b[0mname\u001b[0m\u001b[0;34m\u001b[0m\u001b[0m\n",
      "\u001b[0;32m/usr/local/lib/python2.7/dist-packages/pandas/io/parsers.pyc\u001b[0m in \u001b[0;36m_read\u001b[0;34m(filepath_or_buffer, kwds)\u001b[0m\n\u001b[1;32m    403\u001b[0m \u001b[0;34m\u001b[0m\u001b[0m\n\u001b[1;32m    404\u001b[0m     \u001b[0;31m# Create the parser.\u001b[0m\u001b[0;34m\u001b[0m\u001b[0;34m\u001b[0m\u001b[0m\n\u001b[0;32m--> 405\u001b[0;31m     \u001b[0mparser\u001b[0m \u001b[0;34m=\u001b[0m \u001b[0mTextFileReader\u001b[0m\u001b[0;34m(\u001b[0m\u001b[0mfilepath_or_buffer\u001b[0m\u001b[0;34m,\u001b[0m \u001b[0;34m**\u001b[0m\u001b[0mkwds\u001b[0m\u001b[0;34m)\u001b[0m\u001b[0;34m\u001b[0m\u001b[0m\n\u001b[0m\u001b[1;32m    406\u001b[0m \u001b[0;34m\u001b[0m\u001b[0m\n\u001b[1;32m    407\u001b[0m     \u001b[0;32mif\u001b[0m \u001b[0mchunksize\u001b[0m \u001b[0;32mor\u001b[0m \u001b[0miterator\u001b[0m\u001b[0;34m:\u001b[0m\u001b[0;34m\u001b[0m\u001b[0m\n",
      "\u001b[0;32m/usr/local/lib/python2.7/dist-packages/pandas/io/parsers.pyc\u001b[0m in \u001b[0;36m__init__\u001b[0;34m(self, f, engine, **kwds)\u001b[0m\n\u001b[1;32m    762\u001b[0m             \u001b[0mself\u001b[0m\u001b[0;34m.\u001b[0m\u001b[0moptions\u001b[0m\u001b[0;34m[\u001b[0m\u001b[0;34m'has_index_names'\u001b[0m\u001b[0;34m]\u001b[0m \u001b[0;34m=\u001b[0m \u001b[0mkwds\u001b[0m\u001b[0;34m[\u001b[0m\u001b[0;34m'has_index_names'\u001b[0m\u001b[0;34m]\u001b[0m\u001b[0;34m\u001b[0m\u001b[0m\n\u001b[1;32m    763\u001b[0m \u001b[0;34m\u001b[0m\u001b[0m\n\u001b[0;32m--> 764\u001b[0;31m         \u001b[0mself\u001b[0m\u001b[0;34m.\u001b[0m\u001b[0m_make_engine\u001b[0m\u001b[0;34m(\u001b[0m\u001b[0mself\u001b[0m\u001b[0;34m.\u001b[0m\u001b[0mengine\u001b[0m\u001b[0;34m)\u001b[0m\u001b[0;34m\u001b[0m\u001b[0m\n\u001b[0m\u001b[1;32m    765\u001b[0m \u001b[0;34m\u001b[0m\u001b[0m\n\u001b[1;32m    766\u001b[0m     \u001b[0;32mdef\u001b[0m \u001b[0mclose\u001b[0m\u001b[0;34m(\u001b[0m\u001b[0mself\u001b[0m\u001b[0;34m)\u001b[0m\u001b[0;34m:\u001b[0m\u001b[0;34m\u001b[0m\u001b[0m\n",
      "\u001b[0;32m/usr/local/lib/python2.7/dist-packages/pandas/io/parsers.pyc\u001b[0m in \u001b[0;36m_make_engine\u001b[0;34m(self, engine)\u001b[0m\n\u001b[1;32m    983\u001b[0m     \u001b[0;32mdef\u001b[0m \u001b[0m_make_engine\u001b[0m\u001b[0;34m(\u001b[0m\u001b[0mself\u001b[0m\u001b[0;34m,\u001b[0m \u001b[0mengine\u001b[0m\u001b[0;34m=\u001b[0m\u001b[0;34m'c'\u001b[0m\u001b[0;34m)\u001b[0m\u001b[0;34m:\u001b[0m\u001b[0;34m\u001b[0m\u001b[0m\n\u001b[1;32m    984\u001b[0m         \u001b[0;32mif\u001b[0m \u001b[0mengine\u001b[0m \u001b[0;34m==\u001b[0m \u001b[0;34m'c'\u001b[0m\u001b[0;34m:\u001b[0m\u001b[0;34m\u001b[0m\u001b[0m\n\u001b[0;32m--> 985\u001b[0;31m             \u001b[0mself\u001b[0m\u001b[0;34m.\u001b[0m\u001b[0m_engine\u001b[0m \u001b[0;34m=\u001b[0m \u001b[0mCParserWrapper\u001b[0m\u001b[0;34m(\u001b[0m\u001b[0mself\u001b[0m\u001b[0;34m.\u001b[0m\u001b[0mf\u001b[0m\u001b[0;34m,\u001b[0m \u001b[0;34m**\u001b[0m\u001b[0mself\u001b[0m\u001b[0;34m.\u001b[0m\u001b[0moptions\u001b[0m\u001b[0;34m)\u001b[0m\u001b[0;34m\u001b[0m\u001b[0m\n\u001b[0m\u001b[1;32m    986\u001b[0m         \u001b[0;32melse\u001b[0m\u001b[0;34m:\u001b[0m\u001b[0;34m\u001b[0m\u001b[0m\n\u001b[1;32m    987\u001b[0m             \u001b[0;32mif\u001b[0m \u001b[0mengine\u001b[0m \u001b[0;34m==\u001b[0m \u001b[0;34m'python'\u001b[0m\u001b[0;34m:\u001b[0m\u001b[0;34m\u001b[0m\u001b[0m\n",
      "\u001b[0;32m/usr/local/lib/python2.7/dist-packages/pandas/io/parsers.pyc\u001b[0m in \u001b[0;36m__init__\u001b[0;34m(self, src, **kwds)\u001b[0m\n\u001b[1;32m   1603\u001b[0m         \u001b[0mkwds\u001b[0m\u001b[0;34m[\u001b[0m\u001b[0;34m'allow_leading_cols'\u001b[0m\u001b[0;34m]\u001b[0m \u001b[0;34m=\u001b[0m \u001b[0mself\u001b[0m\u001b[0;34m.\u001b[0m\u001b[0mindex_col\u001b[0m \u001b[0;32mis\u001b[0m \u001b[0;32mnot\u001b[0m \u001b[0mFalse\u001b[0m\u001b[0;34m\u001b[0m\u001b[0m\n\u001b[1;32m   1604\u001b[0m \u001b[0;34m\u001b[0m\u001b[0m\n\u001b[0;32m-> 1605\u001b[0;31m         \u001b[0mself\u001b[0m\u001b[0;34m.\u001b[0m\u001b[0m_reader\u001b[0m \u001b[0;34m=\u001b[0m \u001b[0mparsers\u001b[0m\u001b[0;34m.\u001b[0m\u001b[0mTextReader\u001b[0m\u001b[0;34m(\u001b[0m\u001b[0msrc\u001b[0m\u001b[0;34m,\u001b[0m \u001b[0;34m**\u001b[0m\u001b[0mkwds\u001b[0m\u001b[0;34m)\u001b[0m\u001b[0;34m\u001b[0m\u001b[0m\n\u001b[0m\u001b[1;32m   1606\u001b[0m \u001b[0;34m\u001b[0m\u001b[0m\n\u001b[1;32m   1607\u001b[0m         \u001b[0;31m# XXX\u001b[0m\u001b[0;34m\u001b[0m\u001b[0;34m\u001b[0m\u001b[0m\n",
      "\u001b[0;32mpandas/_libs/parsers.pyx\u001b[0m in \u001b[0;36mpandas._libs.parsers.TextReader.__cinit__ (pandas/_libs/parsers.c:6260)\u001b[0;34m()\u001b[0m\n",
      "\u001b[0;31mEmptyDataError\u001b[0m: No columns to parse from file"
     ]
    }
   ],
   "source": [
    "rain_bin, rain_hdr = wmf.__Add_hdr_bin_2route__(rutaRain)\n",
    "DataRain = wmf.read_rain_struct(rain_hdr)\n",
    "Rain = wmf.read_mean_rain(rain_hdr)\n",
    "\n",
    "############################ ACTUALIZACION ###########################################\n",
    "\n",
    "#Fecha Actual pasada como parametro\n",
    "DateNow = pd.to_datetime(date)\n",
    "#Calcula la cantidad de horas desde la ultima actualizacion\n",
    "for k in DictUpdate.keys():\n",
    "    dat = pd.to_datetime(DictUpdate[k]['LastUpdate'])\n",
    "    deltaT = DateNow - dat\n",
    "    DictUpdate[k].update({'Horas': deltaT.total_seconds()/3600.0})\n",
    "#si la cantidad de horas es inferior al umbral evalua si cumple la \n",
    "#regla establecida \n",
    "for k in DictStore.keys():\n",
    "    #Evalua si esas condiciones se van a actualizar o no, y si cumplen\n",
    "    #el tiempo sin ser actualizadas\n",
    "    if DictStore[k]['Actualizar'] == 'True':\n",
    "        if DictUpdate['-t '+k[3:]]['Horas'] >= DictStore[k]['Tiempo']:\n",
    "\n",
    "            #CASO 1: NO RAIN: no hay lluvia atras ni adelante.\n",
    "            if DictStore[k]['Condition'][:-3] == 'No Rain':\n",
    "                print 'this way'\n",
    "                #Obtiene las horas de la condicion\n",
    "                hours = float(DictStore[k]['Condition'][-3:-1])\n",
    "                al.get_rain_last_hours(ruta_rain_hist,ruta_rain_temp,hours, DeltaT)\n",
    "                estado = model_update_norain(k,ruta_rain_temp, Rain, DictUpdate, ruta_bck_sto,ruta_sto,DictStore, date)\n",
    "\n",
    "            #CASO 2: NO RAIN NEXT: No hay lluvia adelante.\n",
    "            elif DictStore[k]['Condition'][:-3] == 'No Rain Next':\n",
    "                estado = model_update_norain_next(k, Rain, DictUpdate,ruta_bck_sto, ruta_sto, DictStore, date)\n",
    "\n",
    "            #CASO 3: NO RAIN LAST: no hay lluvia atras.\n",
    "            elif DictStore[k]['Condition'][:-3] == 'No Rain Last':\n",
    "                #Obtiene las horas de la condicion\n",
    "                hours = float(DictStore[k]['Condition'][-3:-1])\n",
    "                al.get_rain_last_hours(ruta_rain_hist,ruta_rain_temp,hours, DeltaT)\n",
    "                estado = model_update_norain_last(k, ruta_rain_temp, DictUpdate, ruta_bck_sto, ruta_sto, DictStore, date)\n",
    "            #CASO 4: ...\n",
    "\n",
    "            #si esta diciendo lo que hace dice:\n",
    "            if verbose:\n",
    "                if estado == 0:\n",
    "                    print 'Aviso: Se han remplazado los estados de: '+k\n",
    "                else:\n",
    "                    print 'Aviso: No se han remplazado los estados de: '+k\n",
    "\n",
    "#Actualiza las fechas dentro del archivo de configuracion \n",
    "#Lee el archivo de configuracion\n",
    "ListConfig = al.get_rutesList(rutaConfig)\n",
    "#Obtiene las posiciones en la tabla\n",
    "pos = []\n",
    "key = '-t'\n",
    "for c,i in enumerate(ListConfig):\n",
    "    if i.startswith('|'+key) or i.startswith('| '+key):\n",
    "        pos.append(c)\n",
    "#Ordena las reglas \n",
    "Keys = DictUpdate.keys()\n",
    "Keys.sort()\n",
    "#Obtiene las nuevas \n",
    "for c,p in enumerate(pos):\n",
    "    ListConfig[p] = '| '+Keys[c]+'|'+DictUpdate[Keys[c]]['Nombre']+'|'+DictUpdate[Keys[c]]['LastUpdate']+'|\\n'\n",
    "#Escribe el nuevo archivo \n",
    "f = open(rutaConfig,'w')\n",
    "f.writelines(ListConfig)\n",
    "f.close()"
   ]
  },
  {
   "cell_type": "code",
   "execution_count": 26,
   "metadata": {},
   "outputs": [
    {
     "data": {
      "text/plain": [
       "'No Rain'"
      ]
     },
     "execution_count": 26,
     "metadata": {},
     "output_type": "execute_result"
    }
   ],
   "source": [
    " DictStore[k]['Condition'][:-3]"
   ]
  },
  {
   "cell_type": "code",
   "execution_count": 37,
   "metadata": {},
   "outputs": [
    {
     "data": {
      "text/plain": [
       "0.0"
      ]
     },
     "execution_count": 37,
     "metadata": {},
     "output_type": "execute_result"
    }
   ],
   "source": [
    "# DictUpdate['-t '+k[3:]]['Horas'] #> \n",
    "DictStore[k]['Tiempo']"
   ]
  },
  {
   "cell_type": "code",
   "execution_count": 25,
   "metadata": {},
   "outputs": [
    {
     "data": {
      "text/plain": [
       "0"
      ]
     },
     "execution_count": 25,
     "metadata": {},
     "output_type": "execute_result"
    }
   ],
   "source": [
    "model_update_norain(k,ruta_rain_temp, Rain, DictUpdate, ruta_bck_sto,ruta_sto,DictStore, date)"
   ]
  }
 ],
 "metadata": {
  "kernelspec": {
   "display_name": "Python 2",
   "language": "python",
   "name": "python2"
  },
  "language_info": {
   "codemirror_mode": {
    "name": "ipython",
    "version": 2
   },
   "file_extension": ".py",
   "mimetype": "text/x-python",
   "name": "python",
   "nbconvert_exporter": "python",
   "pygments_lexer": "ipython2",
   "version": "2.7.6"
  }
 },
 "nbformat": 4,
 "nbformat_minor": 2
}
