{
 "cells": [
  {
   "cell_type": "code",
   "execution_count": 1,
   "metadata": {
    "collapsed": true
   },
   "outputs": [],
   "source": [
    "import pandas as pd \n",
    "import datetime as dt \n",
    "import os \n",
    "from wmf import wmf\n",
    "from multiprocessing import Pool\n",
    "import numpy as np\n",
    "import pickle \n",
    "import alarmas as al\n",
    "import glob\n",
    "import time\n",
    "import pylab as pl\n",
    "\n",
    "import warnings\n",
    "warnings.filterwarnings('ignore')\n",
    "\n",
    "%matplotlib inline"
   ]
  },
  {
   "cell_type": "markdown",
   "metadata": {},
   "source": [
    "### 1. Se crea el .nc de la cuenca para simulacion:\n",
    "Esto se hace copiando y siguiendo lo realizado en una de las plantillas alojadas en:\n",
    "\n",
    "    '/media/nicolas/Home/Jupyter/Soraya/git/Alarmas/03_modelo/jupyter_codes/Preparacuencas'\n",
    "\n",
    "Para respetar la estructura y mantener la organización, se debe nombrar el proyecto de la cuenca y todos los archivos a crear dentro de ella teniendo en cuenta:\n",
    " \n",
    " - Nombre de la cuenca\n",
    " - Identifación del punto esocgido para trazar, en el mejor de los casos el código de una estación nivel ubicada en el mismo, en el peor el nombre del sector.\n",
    " \n",
    "### 2. Se prueban las calibraciones y se crean los binarios de storage considerados para hacer updates:\n",
    "Siguiendo las plantilla en:\n",
    " \n",
    "     '/media/nicolas/Home/Jupyter/Soraya/git/Alarmas/03_modelo/jupyter_codes/Calibraciones'\n",
    "Los binarios de storage se crean de acuerdo a lo estipulado en el cofigfile para actualizar las CI."
   ]
  },
  {
   "cell_type": "markdown",
   "metadata": {},
   "source": [
    "### 2. Se crea el lugar donde alojar el proyecto \n",
    "\n",
    "A partir de la estructura del de muestra alojado en:\n",
    "    \n",
    "    '/media/nicolas/Home/Jupyter/Soraya/git/Alarmas/03_modelo/Op_AMVA60m/'\n",
    "\n",
    "Que pertenece al repo actual Alarmas.\n",
    "\n",
    "Desde esta plantilla se crean las divisiones dentro de la carpeta, los archivos: **configfile.md**, **Cron_Ejecucion.py** y los **README.md** se copian desde el proyecto muestra y se editan conforme se necesite."
   ]
  },
  {
   "cell_type": "markdown",
   "metadata": {},
   "source": [
    "### 3. Se crean los archivos de lluvia."
   ]
  },
  {
   "cell_type": "markdown",
   "metadata": {},
   "source": [
    "# -------------------------------------------- Desarrollo ---------------------------------------------"
   ]
  },
  {
   "cell_type": "markdown",
   "metadata": {},
   "source": [
    "### Se crea el lugar donde alojar el proyecto:\n",
    "\n",
    "- Ruta actual del repo: "
   ]
  },
  {
   "cell_type": "code",
   "execution_count": 3,
   "metadata": {
    "collapsed": true
   },
   "outputs": [],
   "source": [
    "ruta_repo='/media/nicolas/Home/Jupyter/Soraya/git/Alarmas/03_modelo/'"
   ]
  },
  {
   "cell_type": "code",
   "execution_count": 7,
   "metadata": {
    "collapsed": true
   },
   "outputs": [],
   "source": [
    "#INPUT.\n",
    "nombreproyecto='Op_AMVA60m'"
   ]
  },
  {
   "cell_type": "markdown",
   "metadata": {},
   "source": [
    "# Se crea la carpeta del proeyecto\n",
    "comando='mkdir '+ruta_repo+nombreproyecto\n",
    "os.system(comando)"
   ]
  },
  {
   "cell_type": "markdown",
   "metadata": {},
   "source": [
    "- Estructura del repo"
   ]
  },
  {
   "cell_type": "markdown",
   "metadata": {},
   "source": [
    "#carpeta de resultados\n",
    "ruta_in1=ruta_repo+nombreproyecto+'/results'\n",
    "comando='mkdir '+ruta_in1\n",
    "os.system(comando)\n",
    "#carpeta de backsto donde se alojaran los\n",
    "ruta_in2=ruta_repo+nombreproyecto+'/backsto'\n",
    "comando='mkdir '+ruta_in2\n",
    "os.system(comando)"
   ]
  },
  {
   "cell_type": "markdown",
   "metadata": {},
   "source": [
    "#rutas en 1\n",
    "ruta_in11=ruta_in1+'/01_rain'\n",
    "comando='mkdir '+ruta_in11\n",
    "os.system(comando)\n",
    "\n",
    "ruta_in12=ruta_in1+'/02_caudalsim'\n",
    "comando='mkdir '+ruta_in12\n",
    "os.system(comando)\n",
    "\n",
    "ruta_in13=ruta_in1+'/03_humedadsim'\n",
    "comando='mkdir '+ruta_in13\n",
    "os.system(comando)\n",
    "\n",
    "ruta_in14=ruta_in1+'/04_slides'\n",
    "comando='mkdir '+ruta_in14\n",
    "os.system(comando)"
   ]
  },
  {
   "cell_type": "markdown",
   "metadata": {},
   "source": [
    "Nota: La estructura de carpetas del nuevo lugar del proyecto debe quedar igual al proyecto de muestra."
   ]
  },
  {
   "cell_type": "markdown",
   "metadata": {},
   "source": [
    "# .\n",
    "\n",
    "De ahora en adelante el lugar que aloja el proyecto se referirá como: ../\n",
    "\n",
    "En este punto, y antes de continuar, es necesario copiar y dejar listos en la carpeta del proyecto:\n",
    "\n",
    " - los archivos binarios de storage en ../backsto\n",
    " - configfile.md y Cron_Ejecucion.py en ../"
   ]
  },
  {
   "cell_type": "markdown",
   "metadata": {},
   "source": [
    "### Se carga el configfile de la cuenca para leer las rutas"
   ]
  },
  {
   "cell_type": "code",
   "execution_count": 2,
   "metadata": {
    "collapsed": true
   },
   "outputs": [],
   "source": [
    "ruta_configuracion_1 = '/media/nicolas/Home/Jupyter/Soraya/git/Alarmas/03_modelo/Op_AMVA60m/configfile.md'\n",
    "RutasList = al.get_rutesList(ruta_configuracion_1)\n",
    "\n",
    "# Lee rutas de objetos de entrada\n",
    "ruta_cuenca = al.get_ruta(RutasList, 'ruta_cuenca')\n",
    "ruta_campos = al.get_ruta(RutasList, 'ruta_campos')\n",
    "# Lee rutas de salida - lluvia radar\n",
    "ruta_out_rain = al.get_ruta(RutasList, 'ruta_rain')"
   ]
  },
  {
   "cell_type": "markdown",
   "metadata": {},
   "source": [
    "### Se deben crear un binario de lluvia historico para que el cron actualice: lluvia_historica.bin - .hdr\n",
    " Para esto se ejecuta:"
   ]
  },
  {
   "cell_type": "markdown",
   "metadata": {},
   "source": [
    "ruta_codigo='/home/nicolas/self_code/RadarConvStra2Basin3.py'\n",
    "fechaI='2018-01-11'\n",
    "fechaF='2018-01-12'\n",
    "rutaRes=ruta_out_rain+'lluvia_historica'\n",
    "hora1='00:00:00'\n",
    "hora2='23:59:00'\n",
    "comando=ruta_codigo+' '+fechaI+' '+fechaF+' '+ruta_cuenca+' '+ruta_campos+' '+rutaRes+' -v -1 '+hora1+' -2 '+hora2\n",
    "os.system(comando)"
   ]
  },
  {
   "cell_type": "markdown",
   "metadata": {},
   "source": [
    "# .!!\n",
    "En este punto se debe ensayar el Cron_Ejecución hasta la parte de la lluvia, y a partir de esta una ejecución de modelo para crear archivos Qsim.json"
   ]
  },
  {
   "cell_type": "markdown",
   "metadata": {},
   "source": [
    "### Se crean los archivos donde se alojan los historicos de simulacion: Qhist y Shits.\n",
    "A partir de un archivo Qsim.json y Ssim.StOhdr (.csv), cuyas rutas se definen en el configfile, se ejectutan las sgte. funcion de alarmas.py:\n",
    "\n",
    "**Nota:** Esta función usa df.reindex(freq='5min'), esta sólo funciona si el index.freq es exactamente el indicado, sino pone todo en nan.\n",
    "- Mientras se hagan pruebas se debe probar esta función con resultados corridos en el mismo minuto con que se escriben los historicos (en un rango de 1 a 5 min.), e.g. si el index inicial del hist tiene minuto 02, las corridas de prueba debe ser el minuto 02 o 07.\n",
    "\n",
    "- Cuando se vaya a poner operacional el modelo, se debe escribir nuevamente los histfile con datos en minuto 05 para que siempre funcione el df.reindex()"
   ]
  },
  {
   "cell_type": "code",
   "execution_count": 3,
   "metadata": {},
   "outputs": [
    {
     "name": "stdout",
     "output_type": "stream",
     "text": [
      "Aviso: El archivo Qhist: Qsim_001hist.json ya existe, desea sobre-escribirlo, perdera la historia de este!! (S o N): S\n",
      "Aviso: Se crean los Qhist, el archivo Qsim usado para crear las rutas es: /media/nicolas/Home/Jupyter/Soraya/git/Alarmas/03_modelo/Op_AMVA60m/results/02_caudalsim/Qsim_001.json\n",
      "Aviso: Se crean los Shist , el archivo Ssim usado para crear las rutas es: /media/nicolas/Home/Jupyter/Soraya/git/Alarmas/03_modelo/Op_AMVA60m/results/03_humedadsim/storage_001.StOhdr\n"
     ]
    }
   ],
   "source": [
    "al.model_write_rutesHists(ruta_configuracion_1)"
   ]
  },
  {
   "cell_type": "markdown",
   "metadata": {},
   "source": [
    "# .!!\n",
    "En este punto se debe ensayar el Cron_Ejecución hasta la parte de la función Graph_Levels() que necesita un Qhist con una hora dehistoria para poder graficar."
   ]
  }
 ],
 "metadata": {
  "kernelspec": {
   "display_name": "Python 2",
   "language": "python",
   "name": "python2"
  },
  "language_info": {
   "codemirror_mode": {
    "name": "ipython",
    "version": 2
   },
   "file_extension": ".py",
   "mimetype": "text/x-python",
   "name": "python",
   "nbconvert_exporter": "python",
   "pygments_lexer": "ipython2",
   "version": "2.7.6"
  }
 },
 "nbformat": 4,
 "nbformat_minor": 2
}
